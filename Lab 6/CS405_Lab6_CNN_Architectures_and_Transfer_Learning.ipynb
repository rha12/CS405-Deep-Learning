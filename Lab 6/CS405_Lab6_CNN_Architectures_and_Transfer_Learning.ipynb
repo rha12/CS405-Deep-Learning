{
  "cells": [
    {
      "cell_type": "markdown",
      "metadata": {
        "id": "v_B1ZuieF1QD"
      },
      "source": [
        "# CS405_Lab6_CNN Architectures_and_Transfer_Learning\n"
      ]
    },
    {
      "cell_type": "markdown",
      "metadata": {
        "id": "NnfjcGZp4Idl"
      },
      "source": [
        "# TASKS FOR THE LAB:\n",
        "\n",
        "There are two parts for this elaborate lab that you will have to carry out, but first and foremost the important instruction for the lab is to **listen to your instructor. It will help you understand and perform the lab easily.**\n",
        "\n",
        "1. You will be preparing a report for answering the specific questions asked throughout this notebook. Please be attentive to avoid missing any such questions.\n",
        "2. As the title suggests this lab is designed for you to learn to implement CNN architectures by yourselves and also use the pretrained architectures available to you thanks to the scientific community. The tasks for this part will appear to you as you scroll down the notebook."
      ]
    },
    {
      "cell_type": "markdown",
      "metadata": {
        "id": "h7V7EFwMGTu6"
      },
      "source": [
        "Other than that, we are also going to learn the following very useful aspects of a deep learning project that are used very frequently:\n",
        "\n",
        "* Tensorboard\n",
        "  * Log data\n",
        "  * Visualize the model\n",
        "*   Checkpointing: Saving the optimizer, scheduler and other metrics along with the model for resuming training in the future\n",
        "\n",
        "Note: Once you have completed the lab, consider retaining this notebook as your primary resource for any potential future utilization of the provided code, like for checkpointing or integrating with TensorBoard for various purposes"
      ]
    },
    {
      "cell_type": "markdown",
      "metadata": {
        "id": "YKzllCSfboJO"
      },
      "source": [
        "# Package installations and imports  "
      ]
    },
    {
      "cell_type": "code",
      "execution_count": null,
      "metadata": {
        "id": "N2bDecE5XVaq"
      },
      "outputs": [],
      "source": [
        "import torch\n",
        "import torchvision\n",
        "import os\n",
        "from PIL import Image\n",
        "import matplotlib.pyplot as plt\n",
        "%matplotlib inline\n",
        "import torch.nn as nn\n",
        "import numpy as np\n",
        "from tqdm import tqdm\n",
        "from torchsummary import summary"
      ]
    },
    {
      "cell_type": "code",
      "execution_count": null,
      "metadata": {
        "id": "deIXeCKT0lMu"
      },
      "outputs": [],
      "source": [
        "device = \"cuda\" if torch.cuda.is_available() else \"cpu\""
      ]
    },
    {
      "cell_type": "code",
      "execution_count": null,
      "metadata": {
        "id": "D1kd-GLDDDme"
      },
      "outputs": [],
      "source": [
        "!pip install --upgrade --no-cache-dir gdown"
      ]
    },
    {
      "cell_type": "markdown",
      "metadata": {
        "id": "jDy2PliNopxD"
      },
      "source": [
        "# Data Preparation"
      ]
    },
    {
      "cell_type": "markdown",
      "metadata": {
        "id": "ue_RemVlTwJt"
      },
      "source": [
        "## Vegetable Dataset\n",
        "\n",
        "For this lab, we will be using only the test set of the Vegetable Dataset as our working dataset consisting of only 3000 Images because today's lab is about using pretrained networks and how can we achieve good performance with them when we have less amounts of data. We will divide this data into train, validation and test sets (with a split of 70%, 15% and 15%, respectively. Another purpose of doing this is to perform quick train, validation and testing experiments with a small dataset.\n",
        "\n",
        "Train: 2100\n",
        "\n",
        "Val: 450\n",
        "\n",
        "Test: 450\n",
        "\n",
        "https://www.kaggle.com/datasets/misrakahmed/vegetable-image-dataset"
      ]
    },
    {
      "cell_type": "markdown",
      "metadata": {
        "id": "kjoKR2kgovHz"
      },
      "source": [
        "## Download and unzip the dataset"
      ]
    },
    {
      "cell_type": "code",
      "execution_count": null,
      "metadata": {
        "id": "8yGRSY67Brcb"
      },
      "outputs": [],
      "source": [
        "# download test_set\n",
        "!gdown https://drive.google.com/file/d/1aXaH7F6iNlK2mqzZBY_mMF5uazwQHM7W/view?usp=sharing --fuzzy"
      ]
    },
    {
      "cell_type": "code",
      "execution_count": null,
      "metadata": {
        "id": "2OOfRXdwCii8"
      },
      "outputs": [],
      "source": [
        "%%capture\n",
        "!unzip /content/vegetable_test.zip;"
      ]
    },
    {
      "cell_type": "markdown",
      "metadata": {
        "id": "7kHN1fsIVosW"
      },
      "source": [
        "## Loading the train, val and test sets from their respective folders"
      ]
    },
    {
      "cell_type": "markdown",
      "metadata": {
        "id": "Al94cia4o_gz"
      },
      "source": [
        "### Initializing ImageFolder (dataset) Instances"
      ]
    },
    {
      "cell_type": "code",
      "execution_count": null,
      "metadata": {
        "id": "99F4PdsHB6ZL"
      },
      "outputs": [],
      "source": [
        "image_size = 224\n",
        "batch_size = 64"
      ]
    },
    {
      "cell_type": "markdown",
      "metadata": {
        "id": "sHyW68XgmIZF"
      },
      "source": [
        "In this lab, we will learn about using pre-trained models.\n",
        "\n",
        "In order to quickly execute training loops and prove that using pretrained models help us achieve good results with less amounts of data we will use split the test set of the vegetable dataset as the train_set, val_set and test_set."
      ]
    },
    {
      "cell_type": "markdown",
      "metadata": {
        "id": "Ea2VmFZG66gc"
      },
      "source": [
        "## Question 1: What does the torchvision.transforms.Compose() function do in the cell below?"
      ]
    },
    {
      "cell_type": "code",
      "execution_count": null,
      "metadata": {
        "id": "T5GgKVRWkrXO"
      },
      "outputs": [],
      "source": [
        "transform = torchvision.transforms.Compose([torchvision.transforms.ToTensor(), torchvision.transforms.Resize((image_size,image_size))])"
      ]
    },
    {
      "cell_type": "markdown",
      "metadata": {
        "id": "7BFzvZmp7FRl"
      },
      "source": [
        "## Question 2: What is the torchvision.datasets.ImageFolder() method used for in the cell below? What are its arguments?"
      ]
    },
    {
      "cell_type": "code",
      "execution_count": null,
      "metadata": {
        "id": "PfrMWgXqQ9si"
      },
      "outputs": [],
      "source": [
        "# path to our datset\n",
        "data_path = '/content/vegetable_test'\n",
        "\n",
        "#Initialize the dataset instance from the given datapath\n",
        "data_set = torchvision.datasets.ImageFolder(root=data_path, transform=transform)"
      ]
    },
    {
      "cell_type": "code",
      "execution_count": null,
      "metadata": {
        "id": "MJmPy0ZL8rF8"
      },
      "outputs": [],
      "source": [
        "#Side note: you can access transform of a dataset object like this:\n",
        "data_set.transform"
      ]
    },
    {
      "cell_type": "code",
      "execution_count": null,
      "metadata": {
        "id": "XFcEWADmfA9A"
      },
      "outputs": [],
      "source": [
        "# Split the dataset into train, validation and test splits\n",
        "train_set, val_set, test_set = torch.utils.data.random_split(data_set, [2100, 450, 450], generator=torch.Generator().manual_seed(42))"
      ]
    },
    {
      "cell_type": "code",
      "execution_count": null,
      "metadata": {
        "id": "7y2QREse81Ws"
      },
      "outputs": [],
      "source": [
        "#Side note: For subset of the data_set like train_set, you can access its transform like this:\n",
        "train_set.dataset.transform"
      ]
    },
    {
      "cell_type": "code",
      "execution_count": null,
      "metadata": {
        "id": "qdZTgGlthUBU"
      },
      "outputs": [],
      "source": [
        "# Class to number of instances\n",
        "# caution: takes some time to complete for large datasets\n",
        "total = 0\n",
        "class_counts = np.zeros(len(train_set.dataset.classes))\n",
        "for image, label in train_set:\n",
        "    class_counts[label] += 1\n",
        "    total +=1\n",
        "for i in range(len(class_counts)):\n",
        "  print(\"class:%s, instances: %d\"%([k for k,v in train_set.dataset.class_to_idx.items() if v == i], class_counts[i]))"
      ]
    },
    {
      "cell_type": "markdown",
      "metadata": {
        "id": "yYTZbWqL7YfN"
      },
      "source": [
        "## Question 3: What is the if-elif condition used for in the cell below?"
      ]
    },
    {
      "cell_type": "code",
      "execution_count": null,
      "metadata": {
        "id": "LraCGfs5ogg2"
      },
      "outputs": [],
      "source": [
        "# Print the classes in the dataset\n",
        "classes = None\n",
        "if hasattr(train_set, 'classes'):\n",
        "      classes = train_set.classes\n",
        "elif hasattr(train_set, 'dataset') and hasattr(train_set.dataset, 'classes'):\n",
        "      classes = train_set.dataset.classes\n",
        "\n",
        "classes"
      ]
    },
    {
      "cell_type": "markdown",
      "metadata": {
        "id": "rfmqhq9HjAQ3"
      },
      "source": [
        "## Function for visualizing images of dataset object"
      ]
    },
    {
      "cell_type": "code",
      "execution_count": null,
      "metadata": {
        "id": "eZANYWjujNoR"
      },
      "outputs": [],
      "source": [
        "def show_dataset_samples(data_set):\n",
        "    loader = torch.utils.data.DataLoader(\n",
        "    data_set,\n",
        "    batch_size=32,\n",
        "    shuffle=True)\n",
        "\n",
        "  # Get a batch of images from the train_loader\n",
        "    images, labels = next(iter(loader))\n",
        "\n",
        "    rows = col = 3\n",
        "    #fig, axes = plt.subplots(nrows=5, ncols=5)                          )\n",
        "    plt.figure(figsize = (10,10))\n",
        "\n",
        "    for i in range(rows*col):\n",
        "      # Plot a random image from the batch\n",
        "      random_index = np.random.randint(0, images.shape[0])\n",
        "      image = images[random_index]\n",
        "      label = labels[random_index]\n",
        "      plt.subplot(rows, col, i+1)\n",
        "      plt.axis('off')\n",
        "      plt.imshow(image.permute(1,2,0))\n",
        "\n",
        "      if hasattr(train_set, 'classes'):\n",
        "        classes = train_set.classes\n",
        "      elif hasattr(train_set, 'dataset') and hasattr(train_set.dataset, 'classes'):\n",
        "        classes = train_set.dataset.classes\n",
        "\n",
        "      plt.title(f'Label: {classes[label]}')"
      ]
    },
    {
      "cell_type": "code",
      "execution_count": null,
      "metadata": {
        "id": "QUHq9QEtjO4u"
      },
      "outputs": [],
      "source": [
        "show_dataset_samples(train_set)"
      ]
    },
    {
      "cell_type": "markdown",
      "metadata": {
        "id": "xPiv7AC-v28H"
      },
      "source": [
        "## Compute standardization parameters and apply"
      ]
    },
    {
      "cell_type": "code",
      "execution_count": null,
      "metadata": {
        "id": "A6hmTymg2tEU"
      },
      "outputs": [],
      "source": [
        "def get_mean_and_std(dataloader):\n",
        "    channels_sum, channels_squared_sum, num_batches = 0, 0, 0\n",
        "    for data, _ in dataloader:\n",
        "        # Mean over batch, height and width, but not over the channels\n",
        "        channels_sum += torch.mean(data, dim=[0,2,3])\n",
        "        channels_squared_sum += torch.mean(data**2, dim=[0,2,3])\n",
        "        num_batches += 1\n",
        "\n",
        "    mean = channels_sum / num_batches\n",
        "\n",
        "    # std = sqrt(E[X^2] - (E[X])^2)\n",
        "    std = (channels_squared_sum / num_batches - mean ** 2) ** 0.5\n",
        "\n",
        "    return mean, std\n",
        "\n",
        "# https://towardsdatascience.com/how-to-calculate-the-mean-and-standard-deviation-normalizing-datasets-in-pytorch-704bd7d05f4c"
      ]
    },
    {
      "cell_type": "markdown",
      "metadata": {
        "id": "GFhFsFx-7xBs"
      },
      "source": [
        "## Question 4: Why are we calculating the mean and std of only the trian_set in the cell below? Why not calculate for the whole dataset?"
      ]
    },
    {
      "cell_type": "code",
      "execution_count": null,
      "metadata": {
        "id": "1xQ5ZbWW2v1j"
      },
      "outputs": [],
      "source": [
        "# Create a dummy dataloader for our train_set\n",
        "dataloader = torch.utils.data.DataLoader(dataset=train_set, batch_size=32)\n",
        "# Call the function and compute mean and std\n",
        "mean, std = get_mean_and_std(dataloader)\n",
        "print(mean, std)"
      ]
    },
    {
      "cell_type": "code",
      "execution_count": null,
      "metadata": {
        "id": "RwC-EDJQqM9W"
      },
      "outputs": [],
      "source": [
        "# Add the new normalization to the existing transforms\n",
        "normalize = torchvision.transforms.Normalize(mean=mean, std=std)\n",
        "transform = torchvision.transforms.Compose([transform, normalize])"
      ]
    },
    {
      "cell_type": "markdown",
      "metadata": {
        "id": "ZJCb19tk9f6M"
      },
      "source": [
        "## Question 5: How are we updating the transforms of our subsets in the cell below?"
      ]
    },
    {
      "cell_type": "code",
      "execution_count": null,
      "metadata": {
        "id": "0KG3SBtRqu0T"
      },
      "outputs": [],
      "source": [
        "# A function for updating the transforms of our dataset objects\n",
        "def update_transform(dataset, transform):\n",
        "    if hasattr(dataset, 'transform'):\n",
        "      dataset.transform = transform\n",
        "      dataset.transform\n",
        "    elif hasattr(dataset, 'dataset') and hasattr(dataset.dataset, 'transform'):\n",
        "      dataset.dataset.transform = transform\n",
        "      dataset.dataset.transform\n",
        "    else:\n",
        "      print(\"No transform attribute found.\")"
      ]
    },
    {
      "cell_type": "code",
      "execution_count": null,
      "metadata": {
        "id": "3HgbzxGVv7ZO"
      },
      "outputs": [],
      "source": [
        "# Add the normalization transform to the datasets\n",
        "# using the \"update_transform\" function\n",
        "update_transform(train_set, transform)\n",
        "update_transform(val_set, transform)\n",
        "update_transform(test_set, transform)"
      ]
    },
    {
      "cell_type": "code",
      "execution_count": null,
      "metadata": {
        "id": "jwjENBSsb1V-"
      },
      "outputs": [],
      "source": [
        "### Visualize the images with the new normalization transform\n",
        "show_dataset_samples(train_set)"
      ]
    },
    {
      "cell_type": "markdown",
      "metadata": {
        "id": "BQBvcli4cIuH"
      },
      "source": [
        "## Data Augmentation"
      ]
    },
    {
      "cell_type": "markdown",
      "metadata": {
        "id": "YeGycvYk9xv7"
      },
      "source": [
        "## Question 6: What transforms are we using in the cell below?\n",
        "## Question 7: Why are we only applying them to the train_set?"
      ]
    },
    {
      "cell_type": "code",
      "execution_count": null,
      "metadata": {
        "id": "9oDUmO-DwaUg"
      },
      "outputs": [],
      "source": [
        "# composing transforms instance for data augmentation\n",
        "augmentation_transforms = torchvision.transforms.Compose([transform,\n",
        "    torchvision.transforms.RandomHorizontalFlip(),\n",
        "    torchvision.transforms.RandomVerticalFlip(),\n",
        "    torchvision.transforms.RandomRotation(degrees=45),\n",
        "    torchvision.transforms.GaussianBlur(5)\n",
        "    ])\n",
        "\n",
        "# Add the augmentation_transfomers to the train_set\n",
        "update_transform(train_set, transform)"
      ]
    },
    {
      "cell_type": "markdown",
      "metadata": {
        "id": "WGVbqC8dpFOz"
      },
      "source": [
        "## Initializing the pytorch dataloaders and visualize train examples"
      ]
    },
    {
      "cell_type": "code",
      "execution_count": null,
      "metadata": {
        "id": "eOV5lugliOlZ"
      },
      "outputs": [],
      "source": [
        "train_loader = torch.utils.data.DataLoader(\n",
        "    train_set,\n",
        "    batch_size=batch_size,\n",
        "    shuffle=True\n",
        ")\n",
        "\n",
        "val_loader = torch.utils.data.DataLoader(\n",
        "    val_set,\n",
        "    batch_size=batch_size,\n",
        "    shuffle=False\n",
        ")\n",
        "\n",
        "test_loader = torch.utils.data.DataLoader(\n",
        "    test_set,\n",
        "    batch_size=batch_size,\n",
        "    shuffle=False\n",
        ")\n"
      ]
    },
    {
      "cell_type": "markdown",
      "metadata": {
        "id": "LARAhY3QVjJr"
      },
      "source": [
        "# Convolutional Neural Networks Architectures"
      ]
    },
    {
      "cell_type": "markdown",
      "metadata": {
        "id": "TKRQ88cCDYpI"
      },
      "source": [
        "# TASKS\n",
        "# You have two tasks to perform in this lab:\n",
        "\n",
        "## Task 1:\n",
        "In the cells below the VGG16 model has been manually implemented for you to initialize a VGG16 model with random variables. You have also been provided code for using a pretrained VGG16 model.\n",
        "\n",
        "1. You to first train the manually implemented model for 15 epochs, save its training and validation plots and evaluate it on the test set.\n",
        "\n",
        "2. Then, using the provided code, fine-tune the pre-trained model for a 3 epochs, save its training and validation plots and evaluate it on the test set.  \n",
        "\n",
        "Compare the performance and traning plots of the pre-trained model with those of the model trained from scratch. Report and discuss your observations in the Lab Report for both models.\n",
        "\n",
        "## Task 2:\n",
        "Train a pretrained ResNet-50 model on the same dataset for a few epochs 2-3 epochs, save its plots, evaluate it on the test set and compare its performance with that of the pre-trained VGG-16 model. Report and discuss your observations.\n",
        "\n"
      ]
    },
    {
      "cell_type": "markdown",
      "metadata": {
        "id": "2PuT9VQEJezj"
      },
      "source": [
        "## Question 8: Instead of fine-tuning the pre-trained model for a few epochs what would happen if we train the pre-trained model for a large number of epochs on the train_set?"
      ]
    },
    {
      "cell_type": "markdown",
      "metadata": {
        "id": "OBE4KE_PZsbt"
      },
      "source": [
        "## VGG-16 Manual Implementation and Random Initialization\n",
        "![image.png](data:image/png;base64,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)"
      ]
    },
    {
      "cell_type": "code",
      "execution_count": null,
      "metadata": {
        "id": "oY1_HXHYZzIy"
      },
      "outputs": [],
      "source": [
        "class VGG16(nn.Module):\n",
        "    def __init__(self, num_classes=15, im_height=224, im_width=224):\n",
        "\n",
        "        super(VGG16, self).__init__()\n",
        "\n",
        "        max_pool_count = 5\n",
        "        size_reduction_factor = 2**max_pool_count\n",
        "        out_height = im_height // size_reduction_factor\n",
        "        out_width = im_width // size_reduction_factor\n",
        "\n",
        "        self.layer1 = nn.Sequential(\n",
        "            nn.Conv2d(3, 64, kernel_size=3, stride=1, padding=1),\n",
        "            nn.BatchNorm2d(64),\n",
        "            nn.ReLU())\n",
        "\n",
        "        self.layer2 = nn.Sequential(\n",
        "            nn.Conv2d(64, 64, kernel_size=3, stride=1, padding=1),\n",
        "            nn.BatchNorm2d(64),\n",
        "            nn.ReLU(),\n",
        "            nn.MaxPool2d(kernel_size = 2, stride = 2))\n",
        "\n",
        "        self.layer3 = nn.Sequential(\n",
        "            nn.Conv2d(64, 128, kernel_size=3, stride=1, padding=1),\n",
        "            nn.BatchNorm2d(128),\n",
        "            nn.ReLU())\n",
        "\n",
        "        self.layer4 = nn.Sequential(\n",
        "            nn.Conv2d(128, 128, kernel_size=3, stride=1, padding=1),\n",
        "            nn.BatchNorm2d(128),\n",
        "            nn.ReLU(),\n",
        "            nn.MaxPool2d(kernel_size = 2, stride = 2))\n",
        "\n",
        "        self.layer5 = nn.Sequential(\n",
        "            nn.Conv2d(128, 256, kernel_size=3, stride=1, padding=1),\n",
        "            nn.BatchNorm2d(256),\n",
        "            nn.ReLU())\n",
        "\n",
        "        self.layer6 = nn.Sequential(\n",
        "            nn.Conv2d(256, 256, kernel_size=3, stride=1, padding=1),\n",
        "            nn.BatchNorm2d(256),\n",
        "            nn.ReLU())\n",
        "\n",
        "        self.layer7 = nn.Sequential(\n",
        "            nn.Conv2d(256, 256, kernel_size=3, stride=1, padding=1),\n",
        "            nn.BatchNorm2d(256),\n",
        "            nn.ReLU(),\n",
        "            nn.MaxPool2d(kernel_size = 2, stride = 2))\n",
        "\n",
        "        self.layer8 = nn.Sequential(\n",
        "            nn.Conv2d(256, 512, kernel_size=3, stride=1, padding=1),\n",
        "            nn.BatchNorm2d(512),\n",
        "            nn.ReLU())\n",
        "\n",
        "        self.layer9 = nn.Sequential(\n",
        "            nn.Conv2d(512, 512, kernel_size=3, stride=1, padding=1),\n",
        "            nn.BatchNorm2d(512),\n",
        "            nn.ReLU())\n",
        "\n",
        "        self.layer10 = nn.Sequential(\n",
        "            nn.Conv2d(512, 512, kernel_size=3, stride=1, padding=1),\n",
        "            nn.BatchNorm2d(512),\n",
        "            nn.ReLU(),\n",
        "            nn.MaxPool2d(kernel_size = 2, stride = 2))\n",
        "\n",
        "        self.layer11 = nn.Sequential(\n",
        "            nn.Conv2d(512, 512, kernel_size=3, stride=1, padding=1),\n",
        "            nn.BatchNorm2d(512),\n",
        "            nn.ReLU())\n",
        "\n",
        "        self.layer12 = nn.Sequential(\n",
        "            nn.Conv2d(512, 512, kernel_size=3, stride=1, padding=1),\n",
        "            nn.BatchNorm2d(512),\n",
        "            nn.ReLU())\n",
        "\n",
        "        self.layer13 = nn.Sequential(\n",
        "            nn.Conv2d(512, 512, kernel_size=3, stride=1, padding=1),\n",
        "            nn.BatchNorm2d(512),\n",
        "            nn.ReLU(),\n",
        "            nn.MaxPool2d(kernel_size = 2, stride = 2))\n",
        "\n",
        "        self.fc = nn.Sequential(\n",
        "            nn.Dropout(0.5),\n",
        "            nn.Linear(out_height*out_width*512, 4096),\n",
        "            nn.ReLU())\n",
        "\n",
        "        self.fc1 = nn.Sequential(\n",
        "            nn.Dropout(0.5),\n",
        "            nn.Linear(4096, 4096),\n",
        "            nn.ReLU())\n",
        "\n",
        "        self.fc2= nn.Sequential(\n",
        "            nn.Linear(4096, num_classes))\n",
        "\n",
        "    def forward(self, x):\n",
        "        out = self.layer1(x)\n",
        "        out = self.layer2(out)\n",
        "        out = self.layer3(out)\n",
        "        out = self.layer4(out)\n",
        "        out = self.layer5(out)\n",
        "        out = self.layer6(out)\n",
        "        out = self.layer7(out)\n",
        "        out = self.layer8(out)\n",
        "        out = self.layer9(out)\n",
        "        out = self.layer10(out)\n",
        "        out = self.layer11(out)\n",
        "        out = self.layer12(out)\n",
        "        out = self.layer13(out)\n",
        "        out = out.reshape(out.size(0), -1)\n",
        "        out = self.fc(out)\n",
        "        out = self.fc1(out)\n",
        "        out = self.fc2(out)\n",
        "        return out\n",
        "\n",
        "# Source: https://blog.paperspace.com/vgg-from-scratch-pytorch/"
      ]
    },
    {
      "cell_type": "code",
      "execution_count": null,
      "metadata": {
        "id": "Su8w8GPA-g4l"
      },
      "outputs": [],
      "source": [
        "model = VGG16()"
      ]
    },
    {
      "cell_type": "markdown",
      "metadata": {
        "id": "dNaaDjVdSf5u"
      },
      "source": [
        "# Torchvision Pretrained VGG16 Model"
      ]
    },
    {
      "cell_type": "code",
      "execution_count": null,
      "metadata": {
        "id": "9iCqPZyoSoP2"
      },
      "outputs": [],
      "source": [
        "# https://pytorch.org/vision/stable/models.html\n",
        "model = torchvision.models.vgg16(pretrained= True)\n",
        "\n",
        "# Alternate method of initialization:\n",
        "# modelVGG = torchvision.models.vgg19(weights=torchvision.models.VGG19_Weights)"
      ]
    },
    {
      "cell_type": "markdown",
      "metadata": {
        "id": "EPicTuengHmv"
      },
      "source": [
        "The \"parameters()\" attribute of a model returns us a generator that iteratively provides us the parameters of each layer of the model.\n",
        "\n",
        "In the code below, we use a for loop to iterate over the parameters of each layer in the model.\n",
        "\n",
        "The requires_grad flag for parameters of a layer signifies whether to calculate the gradients for those parameters when doing a backward pass. So initially we set requires_grad to false for parameters of all the layers"
      ]
    },
    {
      "cell_type": "code",
      "execution_count": null,
      "metadata": {
        "id": "_UhmGplljq4H"
      },
      "outputs": [],
      "source": [
        "for param in model.parameters():\n",
        "    param.requires_grad = False"
      ]
    },
    {
      "cell_type": "code",
      "execution_count": null,
      "metadata": {
        "id": "IbgduF2aZCNK"
      },
      "outputs": [],
      "source": [
        "model"
      ]
    },
    {
      "cell_type": "markdown",
      "metadata": {
        "id": "3k56152QfkSh"
      },
      "source": [
        "### Replace an exisiting layer in model (VGG19)"
      ]
    },
    {
      "cell_type": "markdown",
      "metadata": {
        "id": "3PFECkHggQDn"
      },
      "source": [
        "The VGG19 model is divided into two sequential parts: First one is the \"features\" module and the second one is the classifer module. The \"features\" module consists of all the 2D opertation layers and the \"classifier\" module consists of all the fully connected layers.\n",
        "\n",
        "In our case, the vegetable dataset has 15 classes, so we initialize a new layer and replace the last linear layer of the classifier that has 1000 outputs for 1000 classes of imagenet with the new layer with 15 outputs.\n"
      ]
    },
    {
      "cell_type": "code",
      "execution_count": null,
      "metadata": {
        "id": "Sn7EZ7RxY2Lo"
      },
      "outputs": [],
      "source": [
        "model.classifier[-1] = nn.Linear(in_features=4096, out_features= 15)"
      ]
    },
    {
      "cell_type": "markdown",
      "metadata": {
        "id": "_Lg93xOdzvp9"
      },
      "source": [
        "# Model Configuration"
      ]
    },
    {
      "cell_type": "markdown",
      "metadata": {
        "id": "k0ciWe9BqnrM"
      },
      "source": [
        "## Loss Function and Optimizer Selection"
      ]
    },
    {
      "cell_type": "code",
      "execution_count": null,
      "metadata": {
        "id": "jQAd4sp9z3XV"
      },
      "outputs": [],
      "source": [
        "# Select a loss function\n",
        "loss_function = torch.nn.CrossEntropyLoss()\n",
        "\n",
        "# Select an optimizer\n",
        "optimizer = torch.optim.Adam(model.parameters(), lr=0.001)\n",
        "\n",
        "# Define the learning rate scheduler\n",
        "scheduler = torch.optim.lr_scheduler.StepLR(optimizer, step_size=40, gamma=0.1)\n",
        "# For more on schedulers please visit:\n",
        "# https://towardsdatascience.com/a-visual-guide-to-learning-rate-schedulers-in-pytorch-24bbb262c863\n",
        "\n",
        "# Set the number of epochs\n",
        "# This variable is used in the main training loop\n",
        "epochs = 10\n",
        "\n",
        "model.to(device);\n"
      ]
    },
    {
      "cell_type": "markdown",
      "metadata": {
        "id": "YmrFwrmbVzfC"
      },
      "source": [
        "# Training"
      ]
    },
    {
      "cell_type": "markdown",
      "metadata": {
        "id": "CIwea2XD2F31"
      },
      "source": [
        "## Function for running the model over all the samples of a given dataloader object"
      ]
    },
    {
      "cell_type": "code",
      "execution_count": null,
      "metadata": {
        "id": "fQiBlut4cTpU"
      },
      "outputs": [],
      "source": [
        "def run_1_epoch(model, loss_fn, loader, optimizer = None, train = False):\n",
        "\n",
        "  if train:\n",
        "    model.train()\n",
        "  else:\n",
        "    model.eval()\n",
        "\n",
        "\n",
        "  total_correct_preds = 0\n",
        "\n",
        "  total_loss = 0\n",
        "\n",
        "  # Number of images we can get by the loader\n",
        "  total_samples_in_loader = len(loader.dataset)\n",
        "\n",
        "  # number of batches we can get by the loader\n",
        "  total_batches_in_loader = len(loader)\n",
        "\n",
        "  for image_batch, labels in tqdm(loader):\n",
        "\n",
        "    # Transfer image_batch to GPU if available\n",
        "    image_batch = image_batch.to(device)\n",
        "    labels = labels.to(device)\n",
        "\n",
        "    # Zeroing out the gradients for parameters\n",
        "    if train:\n",
        "      assert optimizer is not None, \"Optimizer must be provided if train=True\"\n",
        "      optimizer.zero_grad()\n",
        "\n",
        "    # Forward pass on the input batch\n",
        "    output = model(image_batch)\n",
        "\n",
        "    # Acquire predicted class indices\n",
        "    _, predicted = torch.max(output.data, 1) # the dimension 1 corresponds to max along the rows\n",
        "\n",
        "    # Removing extra last dimension from output tensor\n",
        "    output.squeeze_(-1)\n",
        "\n",
        "    # Compute the loss for the minibatch\n",
        "    loss = loss_function(output, labels)\n",
        "\n",
        "    # Backpropagation\n",
        "    if train:\n",
        "      loss.backward()\n",
        "\n",
        "    # Update the parameters using the gradients\n",
        "    if train:\n",
        "      optimizer.step()\n",
        "\n",
        "    # Extra variables for calculating loss and accuracy\n",
        "    # count total predictions for accuracy calcutuon for this epoch\n",
        "    total_correct_preds += (predicted == labels).sum().item()\n",
        "\n",
        "    total_loss += loss.item()\n",
        "\n",
        "  loss = total_loss / total_batches_in_loader\n",
        "  accuracy = 100 * total_correct_preds / total_samples_in_loader\n",
        "\n",
        "  return loss, accuracy"
      ]
    },
    {
      "cell_type": "code",
      "execution_count": null,
      "metadata": {
        "id": "ipQEneNVcNe7"
      },
      "outputs": [],
      "source": [
        "# Initializing variables for starting a new training\n",
        "# Some helper variables\n",
        "\n",
        "train_accuracy_list = []\n",
        "val_accuracy_list = []\n",
        "\n",
        "train_loss_list = []\n",
        "val_loss_list = []\n",
        "\n",
        "\n",
        "val_accuracy_max = -1\n",
        "\n",
        "checkpoint_path = '/content/checkpoint.pth'\n",
        "best_val_checkpoint_path = '/content/best_val_checkpoint.pth'\n",
        "\n",
        "# Start epoch is zero for new training\n",
        "start_epoch = 0"
      ]
    },
    {
      "cell_type": "markdown",
      "metadata": {
        "id": "cXXucI3KrpXH"
      },
      "source": [
        "## Setting up Tensorboard"
      ]
    },
    {
      "cell_type": "markdown",
      "metadata": {},
      "source": [
        "## Question 9: What do you observe in the cells given below related to Tensorboard? Please discuss in the report. How do you enable the tensorboard in the colab environment like this one?"
      ]
    },
    {
      "cell_type": "code",
      "execution_count": null,
      "metadata": {
        "id": "OdjwzWyOtRu7"
      },
      "outputs": [],
      "source": [
        "import tensorboard\n",
        "from torch.utils.tensorboard import SummaryWriter"
      ]
    },
    {
      "cell_type": "code",
      "execution_count": null,
      "metadata": {
        "id": "Bn1B3fkEu7ML"
      },
      "outputs": [],
      "source": [
        "# A command starting with % is called a magic command\n",
        "# This command is used for loading the tensorboard extension for\n",
        "# enabling it to be able to run in this colab notebook\n",
        "%load_ext tensorboard\n",
        "\n",
        "# Otherwise when it is installed in your PC the tensorboard is run through the\n",
        "# browser. Once it is run, you use the provided address to access it through\n",
        "# a browser on your PC."
      ]
    },
    {
      "cell_type": "code",
      "execution_count": null,
      "metadata": {
        "id": "jbcI2MZQrwJC"
      },
      "outputs": [],
      "source": [
        "# Initialize the SummaryWriter instance. The default log_dir is set to runs/\n",
        "# Here we have speified our own log directory\n",
        "writer = SummaryWriter(log_dir=\"/content/runs/\")"
      ]
    },
    {
      "cell_type": "code",
      "execution_count": null,
      "metadata": {
        "id": "ELxmPRVWrtL_"
      },
      "outputs": [],
      "source": [
        "sample_images, labels = next(iter(train_loader))\n",
        "\n",
        "# The add_graph method is used to visualize the model\n",
        "# We provide the model and sample image\n",
        "writer.add_graph(model, sample_images.to(device))"
      ]
    },
    {
      "cell_type": "markdown",
      "metadata": {
        "id": "NVkzLp5BDLKs"
      },
      "source": [
        "### Note: Once the tesnorboard interface is showing and the training has been started, you may click on the referesh button to start visualizing the training curves."
      ]
    },
    {
      "cell_type": "code",
      "execution_count": null,
      "metadata": {
        "id": "rgveOW4CtM0V"
      },
      "outputs": [],
      "source": [
        "# The % sign is the magic command for the tensorboard to run in colab\n",
        "#\n",
        "%tensorboard --logdir /content/runs/\n",
        "\n",
        "# For more details:\n",
        "# https://pytorch.org/tutorials/intermediate/tensorboard_tutorial.html"
      ]
    },
    {
      "cell_type": "markdown",
      "metadata": {
        "id": "HmAqhzhwty-P"
      },
      "source": [
        "## Main training loop"
      ]
    },
    {
      "cell_type": "markdown",
      "metadata": {},
      "source": [
        "## Question 10: How is modularity introduced in the over training of our model in this notebook? What does run_1_epoch() actually do in this case?   "
      ]
    },
    {
      "cell_type": "markdown",
      "metadata": {},
      "source": [
        "## Question 11: How are we logging Tensorboard values in the cell below? Are you observing the training plots during the training of your the implemented VGG16 model?"
      ]
    },
    {
      "cell_type": "markdown",
      "metadata": {},
      "source": [
        "## Question 12: Please discuss about the checkpointing in the cell below. How is it implemented?"
      ]
    },
    {
      "cell_type": "code",
      "execution_count": null,
      "metadata": {
        "id": "5ABSok0mcajB"
      },
      "outputs": [],
      "source": [
        "# Main training and validation loop for n number of epochs\n",
        "for epoch in range(start_epoch, epochs):\n",
        "\n",
        "  # Train model for one epoch\n",
        "\n",
        "  # Get the current learning rate from the optimizer\n",
        "  current_lr = optimizer.param_groups[0]['lr']\n",
        "\n",
        "  print(\"Epoch %d: Train \\nLearning Rate: %.6f\"%(epoch, current_lr))\n",
        "  train_loss, train_accuracy  = run_1_epoch(model, loss_function, train_loader, optimizer, train= True)\n",
        "\n",
        "  # Update the learning rate scheduler\n",
        "  scheduler.step()\n",
        "\n",
        "  # Lists for train loss and accuracy for plotting\n",
        "  train_loss_list.append(train_loss)\n",
        "  train_accuracy_list.append(train_accuracy)\n",
        "\n",
        "  # Validate the model on validation set\n",
        "  print(\"Epoch %d: Validation\"%(epoch))\n",
        "  with torch.no_grad():\n",
        "    val_loss, val_accuracy  = run_1_epoch(model, loss_function, val_loader, optimizer, train= False)\n",
        "\n",
        "  # Lists for val loss and accuracy for plotting\n",
        "  val_loss_list.append(val_loss)\n",
        "  val_accuracy_list.append(val_accuracy)\n",
        "\n",
        "  # The \"add_scalar\" function adds a new metric to the tensorboard log\n",
        "  # It is gnerally given 3 arguments:\n",
        "  # tag: Name of the metric\n",
        "  # scalar_value = the value of the metric to record\n",
        "  # global_step = on which milestone to record the scalar value which in our\n",
        "  # case is the epoch\n",
        "  writer.add_scalar(tag = \"Loss/train\", scalar_value = train_loss, global_step = epoch)\n",
        "  writer.add_scalar(tag = \"accuracy/train\", scalar_value = train_accuracy, global_step = epoch)\n",
        "\n",
        "  writer.add_scalar(tag = \"Loss/val\", scalar_value = val_loss, global_step = epoch)\n",
        "  writer.add_scalar(tag = \"accuracy/val\", scalar_value = val_accuracy, global_step = epoch)\n",
        "\n",
        "  print('train loss: %.4f'%(train_loss))\n",
        "  print('val loss: %.4f'%(val_loss))\n",
        "  print('train_accuracy %.2f' % (train_accuracy))\n",
        "  print('val_accuracy %.2f' % (val_accuracy))\n",
        "\n",
        "  # Save model if validation accuracy for current epoch is greater than\n",
        "  # all the previous epochs\n",
        "  if val_accuracy > val_accuracy_max:\n",
        "    val_accuracy_max = val_accuracy\n",
        "    print(\"New max val Accuracy Acheived %.2f. Saving model.\\n\\n\"%(val_accuracy_max))\n",
        "\n",
        "    checkpoint = {\n",
        "    'model': model.state_dict(),\n",
        "    'optimizer': optimizer.state_dict(),\n",
        "    'scheduler': scheduler.state_dict(),\n",
        "    'trianed_epochs': epoch,\n",
        "    'train_losses': train_loss_list,\n",
        "    'train_accuracies': train_accuracy_list,\n",
        "    'val_losses': val_loss_list,\n",
        "    'val_accuracies': val_accuracy_list,\n",
        "    'val_accuracy_max': val_accuracy_max,\n",
        "    'lr': optimizer.param_groups[0]['lr']\n",
        "    }\n",
        "    torch.save(checkpoint, best_val_checkpoint_path)\n",
        "\n",
        "  else:\n",
        "    print(\"val accuracy did not increase from %.2f\\n\\n\"%(val_accuracy_max))\n",
        "\n",
        "# Save checkpoint for the last epoch\n",
        "  checkpoint = {\n",
        "    'model': model.state_dict(),\n",
        "    'optimizer': optimizer.state_dict(),\n",
        "    'scheduler': scheduler.state_dict(),\n",
        "    'trianed_epochs': epoch,\n",
        "    'train_losses': train_loss_list,\n",
        "    'train_accuracies': train_accuracy_list,\n",
        "    'val_losses': val_loss_list,\n",
        "    'val_accuracies': val_accuracy_list,\n",
        "    'val_accuracy_max': val_accuracy_max,\n",
        "    'lr': optimizer.param_groups[0]['lr']\n",
        "    }\n",
        "\n",
        "  torch.save(checkpoint, checkpoint_path)\n",
        "  writer.flush()\n"
      ]
    },
    {
      "cell_type": "code",
      "execution_count": null,
      "metadata": {
        "id": "6PVMa6ijlfPF"
      },
      "outputs": [],
      "source": [
        "# Copy best model to drive\n",
        "# You may also directly save the best model to drive during training\n",
        "\n",
        "!cp /content/best_val_checkpoint.pth /content/drive/MyDrive/Machvis/Labs/trained_models"
      ]
    },
    {
      "cell_type": "markdown",
      "metadata": {
        "id": "RHqKygtNV_hm"
      },
      "source": [
        "**Accuracy and Loss Result Graphs:**"
      ]
    },
    {
      "cell_type": "code",
      "execution_count": null,
      "metadata": {
        "id": "sbCQgAjmDKtA"
      },
      "outputs": [],
      "source": [
        "plt.figure()\n",
        "plt.plot(train_accuracy_list, label=\"train_accuracy\")\n",
        "plt.plot(val_accuracy_list, label=\"val_accuracy\")\n",
        "plt.legend()\n",
        "\n",
        "plt.xlabel('Epoch')\n",
        "plt.ylabel('Accuracy')\n",
        "\n",
        "plt.title('Training and val Accuracy')\n",
        "\n",
        "plt.figure()\n",
        "plt.plot(train_loss_list, label=\"train_loss\")\n",
        "plt.plot(val_loss_list, label=\"val_loss\")\n",
        "\n",
        "plt.legend()\n",
        "plt.xlabel('Epoch')\n",
        "plt.ylabel('Loss')\n",
        "plt.title('Training and val Loss')"
      ]
    },
    {
      "cell_type": "markdown",
      "metadata": {
        "id": "sBdWG_iQvLM4"
      },
      "source": [
        "# Evaluating the Model"
      ]
    },
    {
      "cell_type": "markdown",
      "metadata": {
        "id": "KG8O7jt9WJbn"
      },
      "source": [
        "**Loading the best saved model:**"
      ]
    },
    {
      "cell_type": "code",
      "execution_count": null,
      "metadata": {
        "id": "NN-I9xZ9urOc"
      },
      "outputs": [],
      "source": [
        "best_val_model_path = '/content/best_val_checkpoint.pth'\n",
        "best_val_checkpoint = torch.load(best_val_model_path, map_location=torch.device(device))"
      ]
    },
    {
      "cell_type": "code",
      "execution_count": null,
      "metadata": {
        "id": "VKsX_saBaUMT"
      },
      "outputs": [],
      "source": [
        "# Before loading the state_dict of the model, make sure the \"model\" instance is\n",
        "# initiated by its corresponding class e.g. VGG16\n",
        "model.load_state_dict(best_val_checkpoint['model'])"
      ]
    },
    {
      "cell_type": "code",
      "execution_count": null,
      "metadata": {
        "id": "kobqLECOvKuI"
      },
      "outputs": [],
      "source": [
        "with torch.no_grad():\n",
        "    test_loss, test_accuracy  = run_1_epoch(model, loss_function, test_loader, train= False)\n",
        "\n",
        "print('test loss: %.4f'%(test_loss))\n",
        "print('test_accuracy %.2f' % (test_accuracy))\n"
      ]
    },
    {
      "cell_type": "code",
      "execution_count": null,
      "metadata": {
        "id": "ZxvphxZjtSVf"
      },
      "outputs": [],
      "source": [
        "# Get a batch of images from the train_loader\n",
        "images, labels = next(iter(test_loader))\n",
        "\n",
        "with torch.no_grad():\n",
        "  predicted_labels = model(images.to(device))\n",
        "  predicted_labels = torch.argmax(predicted_labels, 1)\n",
        "rows = col = 3\n",
        "#fig, axes = plt.subplots(nrows=5, ncols=5))\n",
        "plt.figure(figsize = (10,10))\n",
        "\n",
        "for i in range(rows*col):\n",
        "  # Plot a random image from the batch\n",
        "  random_index = np.random.randint(0, images.shape[0])\n",
        "  image = images[random_index]\n",
        "  label = labels[random_index]\n",
        "  pred_label = predicted_labels[random_index]\n",
        "  plt.subplot(rows, col, i+1)\n",
        "  plt.axis('off')\n",
        "  plt.imshow(image.permute(1,2,0))\n",
        "  plt.title(f'Label: {classes[label]}, Pred: {classes[pred_label]}')"
      ]
    },
    {
      "cell_type": "markdown",
      "metadata": {
        "id": "0gVP9Gl01PWQ"
      },
      "source": [
        "### Useful repositories for gradcam and visualizations.\n",
        "https://github.com/jacobgil/pytorch-grad-cam\n",
        "\n",
        "https://github.com/utkuozbulak/pytorch-cnn-visualizations\n"
      ]
    },
    {
      "cell_type": "markdown",
      "metadata": {
        "id": "WVQ86xAQLKdL"
      },
      "source": [
        "# Notebook Source\n",
        "https://github.com/Vision-At-SEECS/Pytorch_Labs/blob/main/Lab3_Transfer_Learning_and_GradCAM.ipynb\n",
        "\n",
        "You may explore other notebooks in the link of the repository given above.\n",
        "\n"
      ]
    },
    {
      "cell_type": "code",
      "execution_count": null,
      "metadata": {
        "id": "rtDi1iQn3VPw"
      },
      "outputs": [],
      "source": []
    }
  ],
  "metadata": {
    "accelerator": "GPU",
    "colab": {
      "gpuType": "T4",
      "provenance": []
    },
    "kernelspec": {
      "display_name": "Python 3",
      "name": "python3"
    },
    "language_info": {
      "codemirror_mode": {
        "name": "ipython",
        "version": 3
      },
      "file_extension": ".py",
      "mimetype": "text/x-python",
      "name": "python",
      "nbconvert_exporter": "python",
      "pygments_lexer": "ipython3",
      "version": "3.7.4"
    }
  },
  "nbformat": 4,
  "nbformat_minor": 0
}
