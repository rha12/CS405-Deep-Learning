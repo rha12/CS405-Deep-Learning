{
  "cells": [
    {
      "cell_type": "markdown",
      "metadata": {
        "id": "3g4892QTOVVd"
      },
      "source": [
        "# Name : Raja Haide Ali\n",
        "# Class: BESE 11-A\n",
        "# CMS ID: 346900\n"
      ]
    },
    {
      "cell_type": "markdown",
      "metadata": {
        "id": "cF-pnQy2YMQT"
      },
      "source": [
        "# CS-405 Deep Learning BS-CS/SE Fall-2023\n",
        "\n",
        "# Lab 5 Starter Notebook"
      ]
    },
    {
      "cell_type": "markdown",
      "metadata": {
        "id": "XqO8PIA4YlFm"
      },
      "source": [
        "# Dataset\n",
        "The given dataset is a large-scale face dataset with long age span (range from 0 to 116 years old). The dataset consists of over 20,000 face images with annotations of age, gender, and ethnicity. **We will be using all of the 20,000 images**. The dataset in this assignment is going to be used on the following task:\n",
        "\n",
        "## Given the pixels of an image, perform ethnicity classification for the image using a convolutional neural network.\n",
        "\n",
        "\n",
        "The dataset for this lab is already cleaned and provided in a CSV format for you with images included as pixel values.\n",
        "\n",
        "The 4 columns contain the following information:\n",
        "\n",
        "\n",
        "* **[age]** is an integer from 0 to 116, indicating the age. You can convert it to float for regression predictions\n",
        "* **[gender]** is either 0 (male) or 1 (female)\n",
        "* **[race]** is an integer from 0 to 4, denoting White, Black, Asian, Indian, and Others (like Hispanic, Latino, Middle Eastern).\n",
        "*  The 4th column contains the pixels of the images flattened to a single dimension. Each of the original image is of size 48x48 and the flattened image vector consists of 48x48 = 2304 pixel values.\n",
        "\n",
        "## You would be only using the Ethnicity Labels for your task and discard the Age and Gender labels for this lab."
      ]
    },
    {
      "cell_type": "code",
      "execution_count": 1,
      "metadata": {
        "colab": {
          "base_uri": "https://localhost:8080/"
        },
        "id": "-L_pcQJGYHCd",
        "outputId": "5be0118b-29f5-459a-a2e6-1558f8c0397e"
      },
      "outputs": [
        {
          "output_type": "stream",
          "name": "stdout",
          "text": [
            "Downloading...\n",
            "From: https://drive.google.com/uc?id=1_KRWsOhQNf6BZcdu4pg2JVy-lHo7_Cno\n",
            "To: /content/DL_assignment1_dataset.csv\n",
            "100% 199M/199M [00:01<00:00, 160MB/s]\n"
          ]
        }
      ],
      "source": [
        "!gdown https://drive.google.com/file/d/1_KRWsOhQNf6BZcdu4pg2JVy-lHo7_Cno/view?usp=sharing --fuzzy"
      ]
    },
    {
      "cell_type": "code",
      "execution_count": 2,
      "metadata": {
        "id": "ZbV2cYFoW6es"
      },
      "outputs": [],
      "source": [
        "import pandas\n",
        "import numpy as np\n",
        "import matplotlib.pyplot as plt"
      ]
    },
    {
      "cell_type": "code",
      "execution_count": 3,
      "metadata": {
        "colab": {
          "base_uri": "https://localhost:8080/",
          "height": 424
        },
        "id": "mhIMgnKIXDim",
        "outputId": "eb7af425-ef05-44f2-9079-3418b003f5b5"
      },
      "outputs": [
        {
          "output_type": "execute_result",
          "data": {
            "text/plain": [
              "       age  ethnicity  gender  \\\n",
              "0        1          2       0   \n",
              "1        1          2       0   \n",
              "2        1          2       0   \n",
              "3        1          2       0   \n",
              "4        1          2       0   \n",
              "...    ...        ...     ...   \n",
              "23700   99          0       1   \n",
              "23701   99          1       1   \n",
              "23702   99          2       1   \n",
              "23703   99          2       1   \n",
              "23704   99          0       1   \n",
              "\n",
              "                                                  pixels  \n",
              "0      129 128 128 126 127 130 133 135 139 142 145 14...  \n",
              "1      164 74 111 168 169 171 175 182 184 188 193 199...  \n",
              "2      67 70 71 70 69 67 70 79 90 103 116 132 145 155...  \n",
              "3      193 197 198 200 199 200 202 203 204 205 208 21...  \n",
              "4      202 205 209 210 209 209 210 211 212 214 218 21...  \n",
              "...                                                  ...  \n",
              "23700  127 100 94 81 77 77 74 99 102 98 128 145 160 1...  \n",
              "23701  23 28 32 35 42 47 68 85 98 103 113 117 130 129...  \n",
              "23702  59 50 37 40 34 19 30 101 156 170 177 184 187 1...  \n",
              "23703  45 108 120 156 206 197 140 180 191 199 204 207...  \n",
              "23704  156 161 160 165 170 173 166 177 183 191 187 18...  \n",
              "\n",
              "[23705 rows x 4 columns]"
            ],
            "text/html": [
              "\n",
              "  <div id=\"df-ee6a5358-a6cd-41b0-a350-29f11e120cc6\" class=\"colab-df-container\">\n",
              "    <div>\n",
              "<style scoped>\n",
              "    .dataframe tbody tr th:only-of-type {\n",
              "        vertical-align: middle;\n",
              "    }\n",
              "\n",
              "    .dataframe tbody tr th {\n",
              "        vertical-align: top;\n",
              "    }\n",
              "\n",
              "    .dataframe thead th {\n",
              "        text-align: right;\n",
              "    }\n",
              "</style>\n",
              "<table border=\"1\" class=\"dataframe\">\n",
              "  <thead>\n",
              "    <tr style=\"text-align: right;\">\n",
              "      <th></th>\n",
              "      <th>age</th>\n",
              "      <th>ethnicity</th>\n",
              "      <th>gender</th>\n",
              "      <th>pixels</th>\n",
              "    </tr>\n",
              "  </thead>\n",
              "  <tbody>\n",
              "    <tr>\n",
              "      <th>0</th>\n",
              "      <td>1</td>\n",
              "      <td>2</td>\n",
              "      <td>0</td>\n",
              "      <td>129 128 128 126 127 130 133 135 139 142 145 14...</td>\n",
              "    </tr>\n",
              "    <tr>\n",
              "      <th>1</th>\n",
              "      <td>1</td>\n",
              "      <td>2</td>\n",
              "      <td>0</td>\n",
              "      <td>164 74 111 168 169 171 175 182 184 188 193 199...</td>\n",
              "    </tr>\n",
              "    <tr>\n",
              "      <th>2</th>\n",
              "      <td>1</td>\n",
              "      <td>2</td>\n",
              "      <td>0</td>\n",
              "      <td>67 70 71 70 69 67 70 79 90 103 116 132 145 155...</td>\n",
              "    </tr>\n",
              "    <tr>\n",
              "      <th>3</th>\n",
              "      <td>1</td>\n",
              "      <td>2</td>\n",
              "      <td>0</td>\n",
              "      <td>193 197 198 200 199 200 202 203 204 205 208 21...</td>\n",
              "    </tr>\n",
              "    <tr>\n",
              "      <th>4</th>\n",
              "      <td>1</td>\n",
              "      <td>2</td>\n",
              "      <td>0</td>\n",
              "      <td>202 205 209 210 209 209 210 211 212 214 218 21...</td>\n",
              "    </tr>\n",
              "    <tr>\n",
              "      <th>...</th>\n",
              "      <td>...</td>\n",
              "      <td>...</td>\n",
              "      <td>...</td>\n",
              "      <td>...</td>\n",
              "    </tr>\n",
              "    <tr>\n",
              "      <th>23700</th>\n",
              "      <td>99</td>\n",
              "      <td>0</td>\n",
              "      <td>1</td>\n",
              "      <td>127 100 94 81 77 77 74 99 102 98 128 145 160 1...</td>\n",
              "    </tr>\n",
              "    <tr>\n",
              "      <th>23701</th>\n",
              "      <td>99</td>\n",
              "      <td>1</td>\n",
              "      <td>1</td>\n",
              "      <td>23 28 32 35 42 47 68 85 98 103 113 117 130 129...</td>\n",
              "    </tr>\n",
              "    <tr>\n",
              "      <th>23702</th>\n",
              "      <td>99</td>\n",
              "      <td>2</td>\n",
              "      <td>1</td>\n",
              "      <td>59 50 37 40 34 19 30 101 156 170 177 184 187 1...</td>\n",
              "    </tr>\n",
              "    <tr>\n",
              "      <th>23703</th>\n",
              "      <td>99</td>\n",
              "      <td>2</td>\n",
              "      <td>1</td>\n",
              "      <td>45 108 120 156 206 197 140 180 191 199 204 207...</td>\n",
              "    </tr>\n",
              "    <tr>\n",
              "      <th>23704</th>\n",
              "      <td>99</td>\n",
              "      <td>0</td>\n",
              "      <td>1</td>\n",
              "      <td>156 161 160 165 170 173 166 177 183 191 187 18...</td>\n",
              "    </tr>\n",
              "  </tbody>\n",
              "</table>\n",
              "<p>23705 rows × 4 columns</p>\n",
              "</div>\n",
              "    <div class=\"colab-df-buttons\">\n",
              "\n",
              "  <div class=\"colab-df-container\">\n",
              "    <button class=\"colab-df-convert\" onclick=\"convertToInteractive('df-ee6a5358-a6cd-41b0-a350-29f11e120cc6')\"\n",
              "            title=\"Convert this dataframe to an interactive table.\"\n",
              "            style=\"display:none;\">\n",
              "\n",
              "  <svg xmlns=\"http://www.w3.org/2000/svg\" height=\"24px\" viewBox=\"0 -960 960 960\">\n",
              "    <path d=\"M120-120v-720h720v720H120Zm60-500h600v-160H180v160Zm220 220h160v-160H400v160Zm0 220h160v-160H400v160ZM180-400h160v-160H180v160Zm440 0h160v-160H620v160ZM180-180h160v-160H180v160Zm440 0h160v-160H620v160Z\"/>\n",
              "  </svg>\n",
              "    </button>\n",
              "\n",
              "  <style>\n",
              "    .colab-df-container {\n",
              "      display:flex;\n",
              "      gap: 12px;\n",
              "    }\n",
              "\n",
              "    .colab-df-convert {\n",
              "      background-color: #E8F0FE;\n",
              "      border: none;\n",
              "      border-radius: 50%;\n",
              "      cursor: pointer;\n",
              "      display: none;\n",
              "      fill: #1967D2;\n",
              "      height: 32px;\n",
              "      padding: 0 0 0 0;\n",
              "      width: 32px;\n",
              "    }\n",
              "\n",
              "    .colab-df-convert:hover {\n",
              "      background-color: #E2EBFA;\n",
              "      box-shadow: 0px 1px 2px rgba(60, 64, 67, 0.3), 0px 1px 3px 1px rgba(60, 64, 67, 0.15);\n",
              "      fill: #174EA6;\n",
              "    }\n",
              "\n",
              "    .colab-df-buttons div {\n",
              "      margin-bottom: 4px;\n",
              "    }\n",
              "\n",
              "    [theme=dark] .colab-df-convert {\n",
              "      background-color: #3B4455;\n",
              "      fill: #D2E3FC;\n",
              "    }\n",
              "\n",
              "    [theme=dark] .colab-df-convert:hover {\n",
              "      background-color: #434B5C;\n",
              "      box-shadow: 0px 1px 3px 1px rgba(0, 0, 0, 0.15);\n",
              "      filter: drop-shadow(0px 1px 2px rgba(0, 0, 0, 0.3));\n",
              "      fill: #FFFFFF;\n",
              "    }\n",
              "  </style>\n",
              "\n",
              "    <script>\n",
              "      const buttonEl =\n",
              "        document.querySelector('#df-ee6a5358-a6cd-41b0-a350-29f11e120cc6 button.colab-df-convert');\n",
              "      buttonEl.style.display =\n",
              "        google.colab.kernel.accessAllowed ? 'block' : 'none';\n",
              "\n",
              "      async function convertToInteractive(key) {\n",
              "        const element = document.querySelector('#df-ee6a5358-a6cd-41b0-a350-29f11e120cc6');\n",
              "        const dataTable =\n",
              "          await google.colab.kernel.invokeFunction('convertToInteractive',\n",
              "                                                    [key], {});\n",
              "        if (!dataTable) return;\n",
              "\n",
              "        const docLinkHtml = 'Like what you see? Visit the ' +\n",
              "          '<a target=\"_blank\" href=https://colab.research.google.com/notebooks/data_table.ipynb>data table notebook</a>'\n",
              "          + ' to learn more about interactive tables.';\n",
              "        element.innerHTML = '';\n",
              "        dataTable['output_type'] = 'display_data';\n",
              "        await google.colab.output.renderOutput(dataTable, element);\n",
              "        const docLink = document.createElement('div');\n",
              "        docLink.innerHTML = docLinkHtml;\n",
              "        element.appendChild(docLink);\n",
              "      }\n",
              "    </script>\n",
              "  </div>\n",
              "\n",
              "\n",
              "<div id=\"df-0a83b8bb-16af-4662-9bc6-15cdab47676b\">\n",
              "  <button class=\"colab-df-quickchart\" onclick=\"quickchart('df-0a83b8bb-16af-4662-9bc6-15cdab47676b')\"\n",
              "            title=\"Suggest charts.\"\n",
              "            style=\"display:none;\">\n",
              "\n",
              "<svg xmlns=\"http://www.w3.org/2000/svg\" height=\"24px\"viewBox=\"0 0 24 24\"\n",
              "     width=\"24px\">\n",
              "    <g>\n",
              "        <path d=\"M19 3H5c-1.1 0-2 .9-2 2v14c0 1.1.9 2 2 2h14c1.1 0 2-.9 2-2V5c0-1.1-.9-2-2-2zM9 17H7v-7h2v7zm4 0h-2V7h2v10zm4 0h-2v-4h2v4z\"/>\n",
              "    </g>\n",
              "</svg>\n",
              "  </button>\n",
              "\n",
              "<style>\n",
              "  .colab-df-quickchart {\n",
              "      --bg-color: #E8F0FE;\n",
              "      --fill-color: #1967D2;\n",
              "      --hover-bg-color: #E2EBFA;\n",
              "      --hover-fill-color: #174EA6;\n",
              "      --disabled-fill-color: #AAA;\n",
              "      --disabled-bg-color: #DDD;\n",
              "  }\n",
              "\n",
              "  [theme=dark] .colab-df-quickchart {\n",
              "      --bg-color: #3B4455;\n",
              "      --fill-color: #D2E3FC;\n",
              "      --hover-bg-color: #434B5C;\n",
              "      --hover-fill-color: #FFFFFF;\n",
              "      --disabled-bg-color: #3B4455;\n",
              "      --disabled-fill-color: #666;\n",
              "  }\n",
              "\n",
              "  .colab-df-quickchart {\n",
              "    background-color: var(--bg-color);\n",
              "    border: none;\n",
              "    border-radius: 50%;\n",
              "    cursor: pointer;\n",
              "    display: none;\n",
              "    fill: var(--fill-color);\n",
              "    height: 32px;\n",
              "    padding: 0;\n",
              "    width: 32px;\n",
              "  }\n",
              "\n",
              "  .colab-df-quickchart:hover {\n",
              "    background-color: var(--hover-bg-color);\n",
              "    box-shadow: 0 1px 2px rgba(60, 64, 67, 0.3), 0 1px 3px 1px rgba(60, 64, 67, 0.15);\n",
              "    fill: var(--button-hover-fill-color);\n",
              "  }\n",
              "\n",
              "  .colab-df-quickchart-complete:disabled,\n",
              "  .colab-df-quickchart-complete:disabled:hover {\n",
              "    background-color: var(--disabled-bg-color);\n",
              "    fill: var(--disabled-fill-color);\n",
              "    box-shadow: none;\n",
              "  }\n",
              "\n",
              "  .colab-df-spinner {\n",
              "    border: 2px solid var(--fill-color);\n",
              "    border-color: transparent;\n",
              "    border-bottom-color: var(--fill-color);\n",
              "    animation:\n",
              "      spin 1s steps(1) infinite;\n",
              "  }\n",
              "\n",
              "  @keyframes spin {\n",
              "    0% {\n",
              "      border-color: transparent;\n",
              "      border-bottom-color: var(--fill-color);\n",
              "      border-left-color: var(--fill-color);\n",
              "    }\n",
              "    20% {\n",
              "      border-color: transparent;\n",
              "      border-left-color: var(--fill-color);\n",
              "      border-top-color: var(--fill-color);\n",
              "    }\n",
              "    30% {\n",
              "      border-color: transparent;\n",
              "      border-left-color: var(--fill-color);\n",
              "      border-top-color: var(--fill-color);\n",
              "      border-right-color: var(--fill-color);\n",
              "    }\n",
              "    40% {\n",
              "      border-color: transparent;\n",
              "      border-right-color: var(--fill-color);\n",
              "      border-top-color: var(--fill-color);\n",
              "    }\n",
              "    60% {\n",
              "      border-color: transparent;\n",
              "      border-right-color: var(--fill-color);\n",
              "    }\n",
              "    80% {\n",
              "      border-color: transparent;\n",
              "      border-right-color: var(--fill-color);\n",
              "      border-bottom-color: var(--fill-color);\n",
              "    }\n",
              "    90% {\n",
              "      border-color: transparent;\n",
              "      border-bottom-color: var(--fill-color);\n",
              "    }\n",
              "  }\n",
              "</style>\n",
              "\n",
              "  <script>\n",
              "    async function quickchart(key) {\n",
              "      const quickchartButtonEl =\n",
              "        document.querySelector('#' + key + ' button');\n",
              "      quickchartButtonEl.disabled = true;  // To prevent multiple clicks.\n",
              "      quickchartButtonEl.classList.add('colab-df-spinner');\n",
              "      try {\n",
              "        const charts = await google.colab.kernel.invokeFunction(\n",
              "            'suggestCharts', [key], {});\n",
              "      } catch (error) {\n",
              "        console.error('Error during call to suggestCharts:', error);\n",
              "      }\n",
              "      quickchartButtonEl.classList.remove('colab-df-spinner');\n",
              "      quickchartButtonEl.classList.add('colab-df-quickchart-complete');\n",
              "    }\n",
              "    (() => {\n",
              "      let quickchartButtonEl =\n",
              "        document.querySelector('#df-0a83b8bb-16af-4662-9bc6-15cdab47676b button');\n",
              "      quickchartButtonEl.style.display =\n",
              "        google.colab.kernel.accessAllowed ? 'block' : 'none';\n",
              "    })();\n",
              "  </script>\n",
              "</div>\n",
              "    </div>\n",
              "  </div>\n"
            ]
          },
          "metadata": {},
          "execution_count": 3
        }
      ],
      "source": [
        "# Lets use pandas to load our data\n",
        "df = pandas.read_csv(\"/content/DL_assignment1_dataset.csv\")\n",
        "df"
      ]
    },
    {
      "cell_type": "markdown",
      "metadata": {
        "id": "2weDCP6jggYB"
      },
      "source": [
        "### For this assignment we will be using convolutional neural networks and the full data set.\n",
        "\n",
        "### Please do not change the seed for the sampling of data points."
      ]
    },
    {
      "cell_type": "markdown",
      "metadata": {
        "id": "PFZ8o68Jg2Ps"
      },
      "source": [
        "Let us take a look at an image. You will get an idea of how to process your data for your neural network."
      ]
    },
    {
      "cell_type": "markdown",
      "metadata": {
        "id": "eg-e0FwohgQC"
      },
      "source": [
        "The 4th column contains all the pixel values in a string for each image. Lets convert all the strings to arrays first."
      ]
    },
    {
      "cell_type": "code",
      "execution_count": 4,
      "metadata": {
        "id": "2-8cTv4PhqaJ"
      },
      "outputs": [],
      "source": [
        "def string_to_array(pixel_string):\n",
        "    pixel_list = pixel_string.split()\n",
        "    pixel_array = np.array([int(value) for value in pixel_list])\n",
        "    return pixel_array"
      ]
    },
    {
      "cell_type": "code",
      "execution_count": 5,
      "metadata": {
        "id": "JhS0ELt7bVSL"
      },
      "outputs": [],
      "source": [
        "df['pixels'] = df['pixels'].apply(string_to_array)"
      ]
    },
    {
      "cell_type": "code",
      "execution_count": 6,
      "metadata": {
        "colab": {
          "base_uri": "https://localhost:8080/"
        },
        "id": "cWoMBRYxbwDb",
        "outputId": "7734fd68-f3f3-40fc-8ad3-9c5e31d02cfb"
      },
      "outputs": [
        {
          "output_type": "execute_result",
          "data": {
            "text/plain": [
              "0        [129, 128, 128, 126, 127, 130, 133, 135, 139, ...\n",
              "1        [164, 74, 111, 168, 169, 171, 175, 182, 184, 1...\n",
              "2        [67, 70, 71, 70, 69, 67, 70, 79, 90, 103, 116,...\n",
              "3        [193, 197, 198, 200, 199, 200, 202, 203, 204, ...\n",
              "4        [202, 205, 209, 210, 209, 209, 210, 211, 212, ...\n",
              "                               ...                        \n",
              "23700    [127, 100, 94, 81, 77, 77, 74, 99, 102, 98, 12...\n",
              "23701    [23, 28, 32, 35, 42, 47, 68, 85, 98, 103, 113,...\n",
              "23702    [59, 50, 37, 40, 34, 19, 30, 101, 156, 170, 17...\n",
              "23703    [45, 108, 120, 156, 206, 197, 140, 180, 191, 1...\n",
              "23704    [156, 161, 160, 165, 170, 173, 166, 177, 183, ...\n",
              "Name: pixels, Length: 23705, dtype: object"
            ]
          },
          "metadata": {},
          "execution_count": 6
        }
      ],
      "source": [
        "df['pixels']"
      ]
    },
    {
      "cell_type": "markdown",
      "metadata": {
        "id": "BhcEWMDbrZto"
      },
      "source": [
        "Our \"pixels\" column has been converted to arrays which we can now use as input features to our model"
      ]
    },
    {
      "cell_type": "markdown",
      "metadata": {
        "id": "lpBey7-Griwp"
      },
      "source": [
        "Lets show the first image of our dataset"
      ]
    },
    {
      "cell_type": "code",
      "execution_count": 7,
      "metadata": {
        "colab": {
          "base_uri": "https://localhost:8080/",
          "height": 500
        },
        "id": "yXEYMfj8etyN",
        "outputId": "103bb65e-5915-49ea-a236-609749ffb661"
      },
      "outputs": [
        {
          "output_type": "stream",
          "name": "stdout",
          "text": [
            "Age: 1\n",
            "Ethnicity: 2\n",
            "Gender: 0\n"
          ]
        },
        {
          "output_type": "execute_result",
          "data": {
            "text/plain": [
              "<matplotlib.image.AxesImage at 0x7a3906ca58d0>"
            ]
          },
          "metadata": {},
          "execution_count": 7
        },
        {
          "output_type": "display_data",
          "data": {
            "text/plain": [
              "<Figure size 640x480 with 1 Axes>"
            ],
            "image/png": "[encoded data removed]"
          },
          "metadata": {}
        }
      ],
      "source": [
        "index = 31\n",
        "first_image = df['pixels'][index]\n",
        "image = first_image.reshape((48,48))\n",
        "print(\"Age: \"+str(df[\"age\"][index])+\"\\nEthnicity: \"+str(df[\"ethnicity\"][index])+ \"\\nGender: \"+str(df[\"gender\"][index]))\n",
        "plt.imshow(image,cmap=\"gray\")"
      ]
    },
    {
      "cell_type": "markdown",
      "metadata": {
        "id": "x7DZZ8VZrRJR"
      },
      "source": [
        "Uptill now, an initial processing has already been done using pandas in this starter code jupyter notebook. Hence you have a data frame ready for your assignment.\n",
        "\n",
        "Please use the dataframe \"df\".\n",
        "\n",
        "### You should consult the Lab 5 document provided to you for the tasks that are needed to be done for the successful completion of this lab. Grading rubricks are also mentioned in detail there.\n",
        "\n",
        "# Note: In this lab you will be using all the 20,000 samples of this dataset.\n",
        "\n"
      ]
    },
    {
      "cell_type": "markdown",
      "metadata": {
        "id": "iaD72eC1UafD"
      },
      "source": [
        "# Part 1: Dataset Creation and Data Splitting (10 points):"
      ]
    },
    {
      "cell_type": "code",
      "execution_count": 8,
      "metadata": {
        "id": "Va1Ks8tWBVWV"
      },
      "outputs": [],
      "source": [
        "# Write any further imports you need here\n",
        "import torch\n",
        "from sklearn.model_selection import train_test_split\n",
        "from torch.utils.data import TensorDataset, DataLoader"
      ]
    },
    {
      "cell_type": "code",
      "source": [
        "# device agnostic code\n",
        "device = \"cuda\" if torch.cuda.is_available() else \"cpu\"\n",
        "device"
      ],
      "metadata": {
        "colab": {
          "base_uri": "https://localhost:8080/",
          "height": 35
        },
        "id": "erDR2OmlcNW_",
        "outputId": "b6baebfd-db45-41d8-fff7-ee4cad93ede6"
      },
      "execution_count": 9,
      "outputs": [
        {
          "output_type": "execute_result",
          "data": {
            "text/plain": [
              "'cuda'"
            ],
            "application/vnd.google.colaboratory.intrinsic+json": {
              "type": "string"
            }
          },
          "metadata": {},
          "execution_count": 9
        }
      ]
    },
    {
      "cell_type": "code",
      "execution_count": 10,
      "metadata": {
        "colab": {
          "base_uri": "https://localhost:8080/",
          "height": 424
        },
        "id": "Op8EzVSstYlf",
        "outputId": "302fc8bf-bb0f-405a-d2b6-d482683723fc"
      },
      "outputs": [
        {
          "output_type": "execute_result",
          "data": {
            "text/plain": [
              "       ethnicity                                             pixels\n",
              "0              2  [129, 128, 128, 126, 127, 130, 133, 135, 139, ...\n",
              "1              2  [164, 74, 111, 168, 169, 171, 175, 182, 184, 1...\n",
              "2              2  [67, 70, 71, 70, 69, 67, 70, 79, 90, 103, 116,...\n",
              "3              2  [193, 197, 198, 200, 199, 200, 202, 203, 204, ...\n",
              "4              2  [202, 205, 209, 210, 209, 209, 210, 211, 212, ...\n",
              "...          ...                                                ...\n",
              "23700          0  [127, 100, 94, 81, 77, 77, 74, 99, 102, 98, 12...\n",
              "23701          1  [23, 28, 32, 35, 42, 47, 68, 85, 98, 103, 113,...\n",
              "23702          2  [59, 50, 37, 40, 34, 19, 30, 101, 156, 170, 17...\n",
              "23703          2  [45, 108, 120, 156, 206, 197, 140, 180, 191, 1...\n",
              "23704          0  [156, 161, 160, 165, 170, 173, 166, 177, 183, ...\n",
              "\n",
              "[23705 rows x 2 columns]"
            ],
            "text/html": [
              "\n",
              "  <div id=\"df-7b0fb95d-735f-4241-b364-e6d1b34dc53f\" class=\"colab-df-container\">\n",
              "    <div>\n",
              "<style scoped>\n",
              "    .dataframe tbody tr th:only-of-type {\n",
              "        vertical-align: middle;\n",
              "    }\n",
              "\n",
              "    .dataframe tbody tr th {\n",
              "        vertical-align: top;\n",
              "    }\n",
              "\n",
              "    .dataframe thead th {\n",
              "        text-align: right;\n",
              "    }\n",
              "</style>\n",
              "<table border=\"1\" class=\"dataframe\">\n",
              "  <thead>\n",
              "    <tr style=\"text-align: right;\">\n",
              "      <th></th>\n",
              "      <th>ethnicity</th>\n",
              "      <th>pixels</th>\n",
              "    </tr>\n",
              "  </thead>\n",
              "  <tbody>\n",
              "    <tr>\n",
              "      <th>0</th>\n",
              "      <td>2</td>\n",
              "      <td>[129, 128, 128, 126, 127, 130, 133, 135, 139, ...</td>\n",
              "    </tr>\n",
              "    <tr>\n",
              "      <th>1</th>\n",
              "      <td>2</td>\n",
              "      <td>[164, 74, 111, 168, 169, 171, 175, 182, 184, 1...</td>\n",
              "    </tr>\n",
              "    <tr>\n",
              "      <th>2</th>\n",
              "      <td>2</td>\n",
              "      <td>[67, 70, 71, 70, 69, 67, 70, 79, 90, 103, 116,...</td>\n",
              "    </tr>\n",
              "    <tr>\n",
              "      <th>3</th>\n",
              "      <td>2</td>\n",
              "      <td>[193, 197, 198, 200, 199, 200, 202, 203, 204, ...</td>\n",
              "    </tr>\n",
              "    <tr>\n",
              "      <th>4</th>\n",
              "      <td>2</td>\n",
              "      <td>[202, 205, 209, 210, 209, 209, 210, 211, 212, ...</td>\n",
              "    </tr>\n",
              "    <tr>\n",
              "      <th>...</th>\n",
              "      <td>...</td>\n",
              "      <td>...</td>\n",
              "    </tr>\n",
              "    <tr>\n",
              "      <th>23700</th>\n",
              "      <td>0</td>\n",
              "      <td>[127, 100, 94, 81, 77, 77, 74, 99, 102, 98, 12...</td>\n",
              "    </tr>\n",
              "    <tr>\n",
              "      <th>23701</th>\n",
              "      <td>1</td>\n",
              "      <td>[23, 28, 32, 35, 42, 47, 68, 85, 98, 103, 113,...</td>\n",
              "    </tr>\n",
              "    <tr>\n",
              "      <th>23702</th>\n",
              "      <td>2</td>\n",
              "      <td>[59, 50, 37, 40, 34, 19, 30, 101, 156, 170, 17...</td>\n",
              "    </tr>\n",
              "    <tr>\n",
              "      <th>23703</th>\n",
              "      <td>2</td>\n",
              "      <td>[45, 108, 120, 156, 206, 197, 140, 180, 191, 1...</td>\n",
              "    </tr>\n",
              "    <tr>\n",
              "      <th>23704</th>\n",
              "      <td>0</td>\n",
              "      <td>[156, 161, 160, 165, 170, 173, 166, 177, 183, ...</td>\n",
              "    </tr>\n",
              "  </tbody>\n",
              "</table>\n",
              "<p>23705 rows × 2 columns</p>\n",
              "</div>\n",
              "    <div class=\"colab-df-buttons\">\n",
              "\n",
              "  <div class=\"colab-df-container\">\n",
              "    <button class=\"colab-df-convert\" onclick=\"convertToInteractive('df-7b0fb95d-735f-4241-b364-e6d1b34dc53f')\"\n",
              "            title=\"Convert this dataframe to an interactive table.\"\n",
              "            style=\"display:none;\">\n",
              "\n",
              "  <svg xmlns=\"http://www.w3.org/2000/svg\" height=\"24px\" viewBox=\"0 -960 960 960\">\n",
              "    <path d=\"M120-120v-720h720v720H120Zm60-500h600v-160H180v160Zm220 220h160v-160H400v160Zm0 220h160v-160H400v160ZM180-400h160v-160H180v160Zm440 0h160v-160H620v160ZM180-180h160v-160H180v160Zm440 0h160v-160H620v160Z\"/>\n",
              "  </svg>\n",
              "    </button>\n",
              "\n",
              "  <style>\n",
              "    .colab-df-container {\n",
              "      display:flex;\n",
              "      gap: 12px;\n",
              "    }\n",
              "\n",
              "    .colab-df-convert {\n",
              "      background-color: #E8F0FE;\n",
              "      border: none;\n",
              "      border-radius: 50%;\n",
              "      cursor: pointer;\n",
              "      display: none;\n",
              "      fill: #1967D2;\n",
              "      height: 32px;\n",
              "      padding: 0 0 0 0;\n",
              "      width: 32px;\n",
              "    }\n",
              "\n",
              "    .colab-df-convert:hover {\n",
              "      background-color: #E2EBFA;\n",
              "      box-shadow: 0px 1px 2px rgba(60, 64, 67, 0.3), 0px 1px 3px 1px rgba(60, 64, 67, 0.15);\n",
              "      fill: #174EA6;\n",
              "    }\n",
              "\n",
              "    .colab-df-buttons div {\n",
              "      margin-bottom: 4px;\n",
              "    }\n",
              "\n",
              "    [theme=dark] .colab-df-convert {\n",
              "      background-color: #3B4455;\n",
              "      fill: #D2E3FC;\n",
              "    }\n",
              "\n",
              "    [theme=dark] .colab-df-convert:hover {\n",
              "      background-color: #434B5C;\n",
              "      box-shadow: 0px 1px 3px 1px rgba(0, 0, 0, 0.15);\n",
              "      filter: drop-shadow(0px 1px 2px rgba(0, 0, 0, 0.3));\n",
              "      fill: #FFFFFF;\n",
              "    }\n",
              "  </style>\n",
              "\n",
              "    <script>\n",
              "      const buttonEl =\n",
              "        document.querySelector('#df-7b0fb95d-735f-4241-b364-e6d1b34dc53f button.colab-df-convert');\n",
              "      buttonEl.style.display =\n",
              "        google.colab.kernel.accessAllowed ? 'block' : 'none';\n",
              "\n",
              "      async function convertToInteractive(key) {\n",
              "        const element = document.querySelector('#df-7b0fb95d-735f-4241-b364-e6d1b34dc53f');\n",
              "        const dataTable =\n",
              "          await google.colab.kernel.invokeFunction('convertToInteractive',\n",
              "                                                    [key], {});\n",
              "        if (!dataTable) return;\n",
              "\n",
              "        const docLinkHtml = 'Like what you see? Visit the ' +\n",
              "          '<a target=\"_blank\" href=https://colab.research.google.com/notebooks/data_table.ipynb>data table notebook</a>'\n",
              "          + ' to learn more about interactive tables.';\n",
              "        element.innerHTML = '';\n",
              "        dataTable['output_type'] = 'display_data';\n",
              "        await google.colab.output.renderOutput(dataTable, element);\n",
              "        const docLink = document.createElement('div');\n",
              "        docLink.innerHTML = docLinkHtml;\n",
              "        element.appendChild(docLink);\n",
              "      }\n",
              "    </script>\n",
              "  </div>\n",
              "\n",
              "\n",
              "<div id=\"df-d584a939-3c23-4a9e-b070-b26108632d71\">\n",
              "  <button class=\"colab-df-quickchart\" onclick=\"quickchart('df-d584a939-3c23-4a9e-b070-b26108632d71')\"\n",
              "            title=\"Suggest charts.\"\n",
              "            style=\"display:none;\">\n",
              "\n",
              "<svg xmlns=\"http://www.w3.org/2000/svg\" height=\"24px\"viewBox=\"0 0 24 24\"\n",
              "     width=\"24px\">\n",
              "    <g>\n",
              "        <path d=\"M19 3H5c-1.1 0-2 .9-2 2v14c0 1.1.9 2 2 2h14c1.1 0 2-.9 2-2V5c0-1.1-.9-2-2-2zM9 17H7v-7h2v7zm4 0h-2V7h2v10zm4 0h-2v-4h2v4z\"/>\n",
              "    </g>\n",
              "</svg>\n",
              "  </button>\n",
              "\n",
              "<style>\n",
              "  .colab-df-quickchart {\n",
              "      --bg-color: #E8F0FE;\n",
              "      --fill-color: #1967D2;\n",
              "      --hover-bg-color: #E2EBFA;\n",
              "      --hover-fill-color: #174EA6;\n",
              "      --disabled-fill-color: #AAA;\n",
              "      --disabled-bg-color: #DDD;\n",
              "  }\n",
              "\n",
              "  [theme=dark] .colab-df-quickchart {\n",
              "      --bg-color: #3B4455;\n",
              "      --fill-color: #D2E3FC;\n",
              "      --hover-bg-color: #434B5C;\n",
              "      --hover-fill-color: #FFFFFF;\n",
              "      --disabled-bg-color: #3B4455;\n",
              "      --disabled-fill-color: #666;\n",
              "  }\n",
              "\n",
              "  .colab-df-quickchart {\n",
              "    background-color: var(--bg-color);\n",
              "    border: none;\n",
              "    border-radius: 50%;\n",
              "    cursor: pointer;\n",
              "    display: none;\n",
              "    fill: var(--fill-color);\n",
              "    height: 32px;\n",
              "    padding: 0;\n",
              "    width: 32px;\n",
              "  }\n",
              "\n",
              "  .colab-df-quickchart:hover {\n",
              "    background-color: var(--hover-bg-color);\n",
              "    box-shadow: 0 1px 2px rgba(60, 64, 67, 0.3), 0 1px 3px 1px rgba(60, 64, 67, 0.15);\n",
              "    fill: var(--button-hover-fill-color);\n",
              "  }\n",
              "\n",
              "  .colab-df-quickchart-complete:disabled,\n",
              "  .colab-df-quickchart-complete:disabled:hover {\n",
              "    background-color: var(--disabled-bg-color);\n",
              "    fill: var(--disabled-fill-color);\n",
              "    box-shadow: none;\n",
              "  }\n",
              "\n",
              "  .colab-df-spinner {\n",
              "    border: 2px solid var(--fill-color);\n",
              "    border-color: transparent;\n",
              "    border-bottom-color: var(--fill-color);\n",
              "    animation:\n",
              "      spin 1s steps(1) infinite;\n",
              "  }\n",
              "\n",
              "  @keyframes spin {\n",
              "    0% {\n",
              "      border-color: transparent;\n",
              "      border-bottom-color: var(--fill-color);\n",
              "      border-left-color: var(--fill-color);\n",
              "    }\n",
              "    20% {\n",
              "      border-color: transparent;\n",
              "      border-left-color: var(--fill-color);\n",
              "      border-top-color: var(--fill-color);\n",
              "    }\n",
              "    30% {\n",
              "      border-color: transparent;\n",
              "      border-left-color: var(--fill-color);\n",
              "      border-top-color: var(--fill-color);\n",
              "      border-right-color: var(--fill-color);\n",
              "    }\n",
              "    40% {\n",
              "      border-color: transparent;\n",
              "      border-right-color: var(--fill-color);\n",
              "      border-top-color: var(--fill-color);\n",
              "    }\n",
              "    60% {\n",
              "      border-color: transparent;\n",
              "      border-right-color: var(--fill-color);\n",
              "    }\n",
              "    80% {\n",
              "      border-color: transparent;\n",
              "      border-right-color: var(--fill-color);\n",
              "      border-bottom-color: var(--fill-color);\n",
              "    }\n",
              "    90% {\n",
              "      border-color: transparent;\n",
              "      border-bottom-color: var(--fill-color);\n",
              "    }\n",
              "  }\n",
              "</style>\n",
              "\n",
              "  <script>\n",
              "    async function quickchart(key) {\n",
              "      const quickchartButtonEl =\n",
              "        document.querySelector('#' + key + ' button');\n",
              "      quickchartButtonEl.disabled = true;  // To prevent multiple clicks.\n",
              "      quickchartButtonEl.classList.add('colab-df-spinner');\n",
              "      try {\n",
              "        const charts = await google.colab.kernel.invokeFunction(\n",
              "            'suggestCharts', [key], {});\n",
              "      } catch (error) {\n",
              "        console.error('Error during call to suggestCharts:', error);\n",
              "      }\n",
              "      quickchartButtonEl.classList.remove('colab-df-spinner');\n",
              "      quickchartButtonEl.classList.add('colab-df-quickchart-complete');\n",
              "    }\n",
              "    (() => {\n",
              "      let quickchartButtonEl =\n",
              "        document.querySelector('#df-d584a939-3c23-4a9e-b070-b26108632d71 button');\n",
              "      quickchartButtonEl.style.display =\n",
              "        google.colab.kernel.accessAllowed ? 'block' : 'none';\n",
              "    })();\n",
              "  </script>\n",
              "</div>\n",
              "    </div>\n",
              "  </div>\n"
            ]
          },
          "metadata": {},
          "execution_count": 10
        }
      ],
      "source": [
        "cols_to_drop = [\"age\", \"gender\"]\n",
        "df.drop(cols_to_drop, axis=1,inplace = True)\n",
        "df"
      ]
    },
    {
      "cell_type": "code",
      "execution_count": 11,
      "metadata": {
        "colab": {
          "base_uri": "https://localhost:8080/"
        },
        "id": "YxZ8RkXoRLc5",
        "outputId": "4cc98b44-63a8-4807-d266-2cd43c8bcd8e"
      },
      "outputs": [
        {
          "output_type": "execute_result",
          "data": {
            "text/plain": [
              "23705"
            ]
          },
          "metadata": {},
          "execution_count": 11
        }
      ],
      "source": [
        "len(df)"
      ]
    },
    {
      "cell_type": "code",
      "execution_count": 12,
      "metadata": {
        "colab": {
          "base_uri": "https://localhost:8080/"
        },
        "id": "QxuMR4vdPIV2",
        "outputId": "4e4bcda7-7b40-4f08-d8ab-bb7a21e947f4"
      },
      "outputs": [
        {
          "output_type": "execute_result",
          "data": {
            "text/plain": [
              "(16593, 11852, 11853)"
            ]
          },
          "metadata": {},
          "execution_count": 12
        }
      ],
      "source": [
        "X_train,X_temp,y_train,y_temp = train_test_split(df.iloc[:,1], df.iloc[:,0], train_size = 0.7, random_state=32)\n",
        "X_val, X_test, y_val, y_test = train_test_split(df.iloc[:,1], df.iloc[:,0], train_size = 0.5, random_state=32)\n",
        "len(X_train), len(X_val), len(X_test)"
      ]
    },
    {
      "cell_type": "code",
      "execution_count": 13,
      "metadata": {
        "id": "X5IoH_ISPkXH"
      },
      "outputs": [],
      "source": [
        "X_train = [torch.from_numpy(array).reshape(1, 48, 48).type(torch.float) for array in X_train.values]\n",
        "X_val = [torch.from_numpy(array).reshape(1, 48, 48).type(torch.float) for array in X_val.values]\n",
        "X_test = [torch.from_numpy(array).reshape(1, 48, 48).type(torch.float) for array in X_test.values]\n",
        "y_train = torch.from_numpy(y_train.values).unsqueeze(dim=-1)\n",
        "y_val = torch.from_numpy(y_val.values).unsqueeze(dim=-1)\n",
        "y_test = torch.from_numpy(y_test.values).unsqueeze(dim=-1)"
      ]
    },
    {
      "cell_type": "code",
      "execution_count": 14,
      "metadata": {
        "colab": {
          "base_uri": "https://localhost:8080/"
        },
        "id": "sLLpRiDRQqQn",
        "outputId": "648f2b01-8d2d-4333-acad-1d2b4187d137"
      },
      "outputs": [
        {
          "output_type": "execute_result",
          "data": {
            "text/plain": [
              "(16593, 11852, 11853)"
            ]
          },
          "metadata": {},
          "execution_count": 14
        }
      ],
      "source": [
        "len(X_train), len(X_val), len(X_test)"
      ]
    },
    {
      "cell_type": "code",
      "execution_count": 15,
      "metadata": {
        "id": "zlZuzq5ncixS"
      },
      "outputs": [],
      "source": [
        "X_train = torch.stack(X_train)\n",
        "X_val = torch.stack(X_val)\n",
        "X_test = torch.stack(X_test)"
      ]
    },
    {
      "cell_type": "code",
      "source": [
        "# loading data into gpu\n",
        "X_train, y_train = X_train.to(device), y_train.to(device)\n",
        "X_val, y_val = X_val.to(device), y_val.to(device)\n",
        "X_test, y_test = X_test.to(device), y_test.to(device)"
      ],
      "metadata": {
        "id": "Fa74DKC-ccZO"
      },
      "execution_count": 16,
      "outputs": []
    },
    {
      "cell_type": "code",
      "execution_count": 17,
      "metadata": {
        "colab": {
          "base_uri": "https://localhost:8080/"
        },
        "id": "pDE0JDBfdmcW",
        "outputId": "58d1b56f-c456-4713-f87e-69c839e51d9d"
      },
      "outputs": [
        {
          "output_type": "execute_result",
          "data": {
            "text/plain": [
              "torch.Size([16593, 1, 48, 48])"
            ]
          },
          "metadata": {},
          "execution_count": 17
        }
      ],
      "source": [
        "X_train.shape"
      ]
    },
    {
      "cell_type": "code",
      "execution_count": 18,
      "metadata": {
        "colab": {
          "base_uri": "https://localhost:8080/"
        },
        "id": "yAeOMWaJcoAh",
        "outputId": "be17d63c-1217-4a6c-f3b9-1645b838bff4"
      },
      "outputs": [
        {
          "output_type": "execute_result",
          "data": {
            "text/plain": [
              "torch.Size([1, 48, 48])"
            ]
          },
          "metadata": {},
          "execution_count": 18
        }
      ],
      "source": [
        "X_train[0].shape"
      ]
    },
    {
      "cell_type": "code",
      "execution_count": 19,
      "metadata": {
        "id": "HLyMsTWTeocE"
      },
      "outputs": [],
      "source": [
        "# Create datasets for train, test, and validation sets\n",
        "train_dataset = TensorDataset(X_train, y_train)\n",
        "test_dataset = TensorDataset(X_test, y_test)\n",
        "val_dataset = TensorDataset(X_val, y_val)\n",
        "\n",
        "# Define batch size\n",
        "batch_size = 32\n",
        "\n",
        "# Create DataLoader for train, test, and validation sets\n",
        "train_loader = DataLoader(train_dataset, batch_size=batch_size, shuffle=True)\n",
        "test_loader = DataLoader(test_dataset, batch_size=batch_size)\n",
        "val_loader = DataLoader(val_dataset, batch_size=batch_size)"
      ]
    },
    {
      "cell_type": "markdown",
      "metadata": {
        "id": "hXA3YIMaUqWa"
      },
      "source": [
        "# Part 2: Building a Unified Neural Network (60 points)\n"
      ]
    },
    {
      "cell_type": "markdown",
      "metadata": {
        "id": "yZ3RhBalUkXn"
      },
      "source": [
        "### i): Convolutional Neural Network Architecture (30 points)"
      ]
    },
    {
      "cell_type": "code",
      "source": [
        "import torch.nn as nn"
      ],
      "metadata": {
        "id": "WPgF-hYwczoO"
      },
      "execution_count": 20,
      "outputs": []
    },
    {
      "cell_type": "code",
      "execution_count": 21,
      "metadata": {
        "id": "hyUA_TjoSfVp"
      },
      "outputs": [],
      "source": [
        "class EthnicityCNN(nn.Module):\n",
        "    def __init__(self):\n",
        "        super().__init__()\n",
        "        self.conv1 = nn.Conv2d(1, 32, kernel_size=3, padding=1)\n",
        "        self.batchnorm1 = nn.BatchNorm2d(32)\n",
        "        self.relu1 = nn.ReLU()\n",
        "        self.maxpool1 = nn.MaxPool2d(kernel_size=2, stride=2)\n",
        "\n",
        "        self.conv2 = nn.Conv2d(32, 64, kernel_size=3, padding=1)\n",
        "        self.batchnorm2 = nn.BatchNorm2d(64)\n",
        "        self.relu2 = nn.ReLU()\n",
        "        self.maxpool2 = nn.MaxPool2d(kernel_size=2, stride=2)\n",
        "\n",
        "        self.fc1 = nn.Linear(64 * 12 * 12, 128)\n",
        "        self.dropout = nn.Dropout(0.5)\n",
        "        self.fc2 = nn.Linear(128, 5)  # Output size is 5 for the 5 ethnicity classes\n",
        "\n",
        "    def forward(self, x):\n",
        "        x = self.conv1(x)\n",
        "        x = self.batchnorm1(x)\n",
        "        x = self.relu1(x)\n",
        "        x = self.maxpool1(x)\n",
        "\n",
        "        x = self.conv2(x)\n",
        "        x = self.batchnorm2(x)\n",
        "        x = self.relu2(x)\n",
        "        x = self.maxpool2(x)\n",
        "\n",
        "        x = x.view(x.size(0), -1)\n",
        "        x = self.fc1(x)\n",
        "        x = self.dropout(x)\n",
        "        x = self.fc2(x)\n",
        "        return x"
      ]
    },
    {
      "cell_type": "code",
      "execution_count": 22,
      "metadata": {
        "colab": {
          "base_uri": "https://localhost:8080/"
        },
        "id": "4ia2XanyVBhP",
        "outputId": "160b789f-6dbb-4084-820d-cdfe1391386a"
      },
      "outputs": [
        {
          "output_type": "execute_result",
          "data": {
            "text/plain": [
              "OrderedDict([('conv1.weight',\n",
              "              tensor([[[[ 0.2504, -0.1520, -0.0573],\n",
              "                        [ 0.1905, -0.2580,  0.0529],\n",
              "                        [ 0.0987, -0.3181,  0.0583]]],\n",
              "              \n",
              "              \n",
              "                      [[[-0.1164,  0.2990,  0.0146],\n",
              "                        [ 0.2521,  0.1503,  0.1286],\n",
              "                        [-0.3161,  0.2880, -0.2725]]],\n",
              "              \n",
              "              \n",
              "                      [[[ 0.1451,  0.1514, -0.0022],\n",
              "                        [ 0.2872, -0.0882, -0.1967],\n",
              "                        [ 0.1098, -0.0742, -0.2809]]],\n",
              "              \n",
              "              \n",
              "                      [[[-0.2369, -0.2128,  0.0960],\n",
              "                        [-0.2331,  0.1520,  0.2578],\n",
              "                        [-0.1352,  0.1885,  0.0070]]],\n",
              "              \n",
              "              \n",
              "                      [[[ 0.2125, -0.0420, -0.2082],\n",
              "                        [ 0.2520, -0.2050,  0.0774],\n",
              "                        [ 0.1900, -0.2413, -0.3030]]],\n",
              "              \n",
              "              \n",
              "                      [[[ 0.1863, -0.3294, -0.2488],\n",
              "                        [ 0.1445, -0.1118,  0.2353],\n",
              "                        [-0.0720,  0.0537, -0.1841]]],\n",
              "              \n",
              "              \n",
              "                      [[[ 0.0659, -0.3079, -0.2535],\n",
              "                        [-0.2561,  0.0392, -0.0592],\n",
              "                        [ 0.3318,  0.0125,  0.2873]]],\n",
              "              \n",
              "              \n",
              "                      [[[-0.1981,  0.0827, -0.0572],\n",
              "                        [ 0.3020,  0.1112,  0.0240],\n",
              "                        [-0.2131, -0.2830, -0.1063]]],\n",
              "              \n",
              "              \n",
              "                      [[[ 0.1718, -0.1803, -0.1400],\n",
              "                        [-0.2917,  0.3144,  0.3012],\n",
              "                        [-0.1918,  0.0107, -0.0186]]],\n",
              "              \n",
              "              \n",
              "                      [[[ 0.0591, -0.2166, -0.2080],\n",
              "                        [-0.0490, -0.2563,  0.0371],\n",
              "                        [-0.1704, -0.2635, -0.0164]]],\n",
              "              \n",
              "              \n",
              "                      [[[-0.1396,  0.1378,  0.2710],\n",
              "                        [-0.1969, -0.1042, -0.0589],\n",
              "                        [-0.3248, -0.3233,  0.1329]]],\n",
              "              \n",
              "              \n",
              "                      [[[-0.0216, -0.1704,  0.3185],\n",
              "                        [-0.3322,  0.2946, -0.3182],\n",
              "                        [-0.1963,  0.1825, -0.0844]]],\n",
              "              \n",
              "              \n",
              "                      [[[-0.1001, -0.2275,  0.1018],\n",
              "                        [ 0.2687,  0.1086,  0.3263],\n",
              "                        [-0.2647, -0.2745, -0.1998]]],\n",
              "              \n",
              "              \n",
              "                      [[[-0.0338,  0.0583,  0.0068],\n",
              "                        [ 0.0397, -0.2155, -0.0865],\n",
              "                        [ 0.0273,  0.0950, -0.2244]]],\n",
              "              \n",
              "              \n",
              "                      [[[ 0.2267, -0.0257,  0.1240],\n",
              "                        [ 0.3012,  0.1761,  0.1315],\n",
              "                        [-0.1248, -0.2349,  0.1171]]],\n",
              "              \n",
              "              \n",
              "                      [[[ 0.2718,  0.1800,  0.0272],\n",
              "                        [ 0.2760, -0.1173, -0.1334],\n",
              "                        [-0.1451, -0.1778, -0.0134]]],\n",
              "              \n",
              "              \n",
              "                      [[[-0.3219,  0.2362, -0.3331],\n",
              "                        [-0.1583,  0.1337, -0.0185],\n",
              "                        [-0.1372, -0.2988,  0.1978]]],\n",
              "              \n",
              "              \n",
              "                      [[[ 0.3136,  0.0253, -0.1312],\n",
              "                        [-0.0777, -0.2488,  0.0953],\n",
              "                        [ 0.1390, -0.0680, -0.1639]]],\n",
              "              \n",
              "              \n",
              "                      [[[ 0.1739, -0.0420,  0.1229],\n",
              "                        [ 0.0663,  0.2270, -0.1573],\n",
              "                        [-0.2980,  0.0243, -0.2800]]],\n",
              "              \n",
              "              \n",
              "                      [[[-0.3103,  0.2461, -0.0270],\n",
              "                        [ 0.2259,  0.1498,  0.2812],\n",
              "                        [ 0.0626,  0.3034, -0.1377]]],\n",
              "              \n",
              "              \n",
              "                      [[[-0.2084, -0.0170, -0.0755],\n",
              "                        [ 0.1952, -0.0450,  0.0385],\n",
              "                        [-0.1609, -0.2583,  0.1216]]],\n",
              "              \n",
              "              \n",
              "                      [[[-0.1655,  0.3088,  0.3046],\n",
              "                        [-0.2932, -0.1389, -0.2065],\n",
              "                        [ 0.3330, -0.1709,  0.3148]]],\n",
              "              \n",
              "              \n",
              "                      [[[ 0.2646, -0.0460, -0.0989],\n",
              "                        [ 0.2448, -0.0520, -0.0482],\n",
              "                        [ 0.0601, -0.3108, -0.0135]]],\n",
              "              \n",
              "              \n",
              "                      [[[ 0.1736, -0.1375, -0.0327],\n",
              "                        [-0.2061, -0.0477,  0.1659],\n",
              "                        [-0.0177, -0.2427,  0.0733]]],\n",
              "              \n",
              "              \n",
              "                      [[[-0.2474,  0.2933,  0.1321],\n",
              "                        [ 0.0289, -0.2607,  0.3233],\n",
              "                        [-0.3226, -0.0139, -0.2745]]],\n",
              "              \n",
              "              \n",
              "                      [[[-0.2757,  0.0855,  0.2252],\n",
              "                        [ 0.1194,  0.3146, -0.0269],\n",
              "                        [-0.2420,  0.0767, -0.0290]]],\n",
              "              \n",
              "              \n",
              "                      [[[ 0.0450, -0.0310, -0.3013],\n",
              "                        [-0.1189,  0.3148,  0.1942],\n",
              "                        [ 0.2774,  0.0901,  0.2839]]],\n",
              "              \n",
              "              \n",
              "                      [[[ 0.0606,  0.0340, -0.0437],\n",
              "                        [-0.1372,  0.1917, -0.2285],\n",
              "                        [-0.0923,  0.1627, -0.0283]]],\n",
              "              \n",
              "              \n",
              "                      [[[-0.2046, -0.0591,  0.1361],\n",
              "                        [-0.1141,  0.2357, -0.2644],\n",
              "                        [ 0.2725, -0.0110,  0.2228]]],\n",
              "              \n",
              "              \n",
              "                      [[[-0.0828,  0.1492, -0.2942],\n",
              "                        [-0.0986,  0.0783,  0.1343],\n",
              "                        [-0.3133,  0.2639,  0.1398]]],\n",
              "              \n",
              "              \n",
              "                      [[[ 0.1544, -0.1688,  0.2835],\n",
              "                        [-0.1337,  0.1549, -0.2674],\n",
              "                        [-0.0177,  0.1123, -0.3274]]],\n",
              "              \n",
              "              \n",
              "                      [[[-0.0987, -0.1530,  0.0079],\n",
              "                        [-0.1564,  0.0508,  0.1684],\n",
              "                        [ 0.0793, -0.2415, -0.1383]]]], device='cuda:0')),\n",
              "             ('conv1.bias',\n",
              "              tensor([ 0.0292,  0.2013, -0.2939, -0.3077, -0.2851, -0.1320,  0.1383,  0.2189,\n",
              "                       0.2272,  0.2016, -0.0334, -0.0442,  0.2684, -0.1543,  0.0899,  0.0570,\n",
              "                      -0.1590, -0.0872, -0.1857,  0.2814,  0.2610,  0.3071,  0.1243, -0.1340,\n",
              "                       0.0893, -0.3076,  0.2512,  0.0790,  0.2707,  0.2041,  0.2477, -0.0560],\n",
              "                     device='cuda:0')),\n",
              "             ('batchnorm1.weight',\n",
              "              tensor([1., 1., 1., 1., 1., 1., 1., 1., 1., 1., 1., 1., 1., 1., 1., 1., 1., 1.,\n",
              "                      1., 1., 1., 1., 1., 1., 1., 1., 1., 1., 1., 1., 1., 1.],\n",
              "                     device='cuda:0')),\n",
              "             ('batchnorm1.bias',\n",
              "              tensor([0., 0., 0., 0., 0., 0., 0., 0., 0., 0., 0., 0., 0., 0., 0., 0., 0., 0., 0., 0., 0., 0., 0., 0.,\n",
              "                      0., 0., 0., 0., 0., 0., 0., 0.], device='cuda:0')),\n",
              "             ('batchnorm1.running_mean',\n",
              "              tensor([0., 0., 0., 0., 0., 0., 0., 0., 0., 0., 0., 0., 0., 0., 0., 0., 0., 0., 0., 0., 0., 0., 0., 0.,\n",
              "                      0., 0., 0., 0., 0., 0., 0., 0.], device='cuda:0')),\n",
              "             ('batchnorm1.running_var',\n",
              "              tensor([1., 1., 1., 1., 1., 1., 1., 1., 1., 1., 1., 1., 1., 1., 1., 1., 1., 1.,\n",
              "                      1., 1., 1., 1., 1., 1., 1., 1., 1., 1., 1., 1., 1., 1.],\n",
              "                     device='cuda:0')),\n",
              "             ('batchnorm1.num_batches_tracked', tensor(0, device='cuda:0')),\n",
              "             ('conv2.weight',\n",
              "              tensor([[[[-0.0036,  0.0050, -0.0280],\n",
              "                        [ 0.0292, -0.0436,  0.0333],\n",
              "                        [-0.0538,  0.0280,  0.0499]],\n",
              "              \n",
              "                       [[-0.0277, -0.0321, -0.0513],\n",
              "                        [ 0.0048,  0.0144,  0.0410],\n",
              "                        [ 0.0092, -0.0510, -0.0564]],\n",
              "              \n",
              "                       [[-0.0517, -0.0487, -0.0355],\n",
              "                        [-0.0583, -0.0444, -0.0273],\n",
              "                        [ 0.0023,  0.0394,  0.0116]],\n",
              "              \n",
              "                       ...,\n",
              "              \n",
              "                       [[ 0.0053, -0.0141,  0.0137],\n",
              "                        [-0.0162,  0.0099,  0.0266],\n",
              "                        [ 0.0151,  0.0445, -0.0567]],\n",
              "              \n",
              "                       [[-0.0386, -0.0470, -0.0347],\n",
              "                        [ 0.0010, -0.0336,  0.0074],\n",
              "                        [ 0.0164,  0.0480,  0.0044]],\n",
              "              \n",
              "                       [[-0.0215, -0.0296, -0.0580],\n",
              "                        [ 0.0581, -0.0549,  0.0353],\n",
              "                        [-0.0509, -0.0419,  0.0132]]],\n",
              "              \n",
              "              \n",
              "                      [[[-0.0385, -0.0555,  0.0202],\n",
              "                        [ 0.0334, -0.0392, -0.0103],\n",
              "                        [ 0.0450,  0.0554,  0.0161]],\n",
              "              \n",
              "                       [[ 0.0088, -0.0277, -0.0082],\n",
              "                        [-0.0506, -0.0139,  0.0382],\n",
              "                        [ 0.0502, -0.0180, -0.0492]],\n",
              "              \n",
              "                       [[ 0.0470, -0.0173, -0.0578],\n",
              "                        [ 0.0140, -0.0282,  0.0582],\n",
              "                        [-0.0223, -0.0190,  0.0374]],\n",
              "              \n",
              "                       ...,\n",
              "              \n",
              "                       [[ 0.0052, -0.0467, -0.0387],\n",
              "                        [ 0.0183,  0.0130,  0.0486],\n",
              "                        [-0.0479, -0.0050, -0.0584]],\n",
              "              \n",
              "                       [[-0.0573, -0.0385, -0.0295],\n",
              "                        [-0.0031, -0.0427,  0.0055],\n",
              "                        [ 0.0266, -0.0382,  0.0175]],\n",
              "              \n",
              "                       [[ 0.0155,  0.0357,  0.0127],\n",
              "                        [-0.0546, -0.0348,  0.0117],\n",
              "                        [-0.0444, -0.0494, -0.0281]]],\n",
              "              \n",
              "              \n",
              "                      [[[ 0.0568, -0.0224, -0.0468],\n",
              "                        [ 0.0254, -0.0092, -0.0253],\n",
              "                        [-0.0452,  0.0303,  0.0578]],\n",
              "              \n",
              "                       [[-0.0020, -0.0191, -0.0530],\n",
              "                        [ 0.0025, -0.0468,  0.0424],\n",
              "                        [-0.0096,  0.0298, -0.0372]],\n",
              "              \n",
              "                       [[ 0.0080,  0.0549,  0.0389],\n",
              "                        [-0.0361,  0.0589,  0.0261],\n",
              "                        [-0.0038,  0.0485, -0.0423]],\n",
              "              \n",
              "                       ...,\n",
              "              \n",
              "                       [[ 0.0199, -0.0415, -0.0095],\n",
              "                        [-0.0140,  0.0187, -0.0233],\n",
              "                        [-0.0124,  0.0520, -0.0372]],\n",
              "              \n",
              "                       [[ 0.0547, -0.0359,  0.0093],\n",
              "                        [ 0.0365, -0.0340,  0.0468],\n",
              "                        [-0.0197,  0.0316,  0.0367]],\n",
              "              \n",
              "                       [[ 0.0153,  0.0440, -0.0027],\n",
              "                        [-0.0578,  0.0175,  0.0513],\n",
              "                        [-0.0476,  0.0328, -0.0440]]],\n",
              "              \n",
              "              \n",
              "                      ...,\n",
              "              \n",
              "              \n",
              "                      [[[-0.0452, -0.0368,  0.0447],\n",
              "                        [ 0.0366, -0.0134, -0.0417],\n",
              "                        [ 0.0279, -0.0027,  0.0423]],\n",
              "              \n",
              "                       [[ 0.0153,  0.0036,  0.0502],\n",
              "                        [-0.0251,  0.0244,  0.0531],\n",
              "                        [ 0.0488,  0.0020,  0.0396]],\n",
              "              \n",
              "                       [[-0.0255, -0.0214, -0.0003],\n",
              "                        [ 0.0572, -0.0258,  0.0337],\n",
              "                        [-0.0017, -0.0557, -0.0314]],\n",
              "              \n",
              "                       ...,\n",
              "              \n",
              "                       [[-0.0425,  0.0586,  0.0313],\n",
              "                        [-0.0277, -0.0347,  0.0057],\n",
              "                        [-0.0459, -0.0248, -0.0028]],\n",
              "              \n",
              "                       [[ 0.0411, -0.0341, -0.0336],\n",
              "                        [-0.0147, -0.0556,  0.0426],\n",
              "                        [-0.0029,  0.0427,  0.0284]],\n",
              "              \n",
              "                       [[ 0.0429, -0.0065,  0.0313],\n",
              "                        [-0.0499, -0.0203,  0.0138],\n",
              "                        [ 0.0282, -0.0387,  0.0236]]],\n",
              "              \n",
              "              \n",
              "                      [[[-0.0574, -0.0131, -0.0486],\n",
              "                        [-0.0394,  0.0461, -0.0516],\n",
              "                        [-0.0207, -0.0304,  0.0152]],\n",
              "              \n",
              "                       [[-0.0428,  0.0496,  0.0100],\n",
              "                        [ 0.0430, -0.0189,  0.0422],\n",
              "                        [-0.0052,  0.0521,  0.0576]],\n",
              "              \n",
              "                       [[ 0.0374, -0.0509, -0.0208],\n",
              "                        [ 0.0392,  0.0498,  0.0509],\n",
              "                        [-0.0583,  0.0418,  0.0333]],\n",
              "              \n",
              "                       ...,\n",
              "              \n",
              "                       [[ 0.0347, -0.0576,  0.0029],\n",
              "                        [-0.0373,  0.0433,  0.0284],\n",
              "                        [-0.0509,  0.0088, -0.0571]],\n",
              "              \n",
              "                       [[-0.0353, -0.0467,  0.0027],\n",
              "                        [ 0.0568, -0.0501,  0.0115],\n",
              "                        [-0.0019,  0.0197,  0.0275]],\n",
              "              \n",
              "                       [[-0.0192, -0.0204, -0.0496],\n",
              "                        [ 0.0162, -0.0137, -0.0017],\n",
              "                        [ 0.0301,  0.0499,  0.0577]]],\n",
              "              \n",
              "              \n",
              "                      [[[ 0.0107,  0.0242,  0.0005],\n",
              "                        [-0.0588,  0.0494,  0.0138],\n",
              "                        [ 0.0298,  0.0453,  0.0145]],\n",
              "              \n",
              "                       [[ 0.0373, -0.0546,  0.0126],\n",
              "                        [ 0.0264,  0.0407, -0.0557],\n",
              "                        [-0.0560,  0.0225,  0.0569]],\n",
              "              \n",
              "                       [[-0.0204,  0.0464,  0.0291],\n",
              "                        [-0.0243,  0.0371, -0.0501],\n",
              "                        [-0.0121, -0.0139, -0.0473]],\n",
              "              \n",
              "                       ...,\n",
              "              \n",
              "                       [[-0.0002, -0.0497,  0.0479],\n",
              "                        [ 0.0088,  0.0419, -0.0093],\n",
              "                        [-0.0150, -0.0055,  0.0179]],\n",
              "              \n",
              "                       [[ 0.0289,  0.0479,  0.0374],\n",
              "                        [-0.0441,  0.0114,  0.0120],\n",
              "                        [-0.0224, -0.0099,  0.0517]],\n",
              "              \n",
              "                       [[ 0.0483, -0.0330,  0.0581],\n",
              "                        [-0.0190,  0.0171,  0.0341],\n",
              "                        [ 0.0205,  0.0331, -0.0139]]]], device='cuda:0')),\n",
              "             ('conv2.bias',\n",
              "              tensor([ 0.0496,  0.0392,  0.0481, -0.0428, -0.0538, -0.0067,  0.0496,  0.0420,\n",
              "                       0.0527, -0.0578,  0.0557, -0.0368, -0.0348, -0.0331, -0.0582,  0.0447,\n",
              "                      -0.0546,  0.0274,  0.0296,  0.0438,  0.0353,  0.0335, -0.0320,  0.0187,\n",
              "                      -0.0147, -0.0075,  0.0282,  0.0263, -0.0409,  0.0049, -0.0460,  0.0228,\n",
              "                       0.0076, -0.0175,  0.0130, -0.0346,  0.0088,  0.0392,  0.0129, -0.0473,\n",
              "                      -0.0157,  0.0517,  0.0151, -0.0462, -0.0555, -0.0516, -0.0008, -0.0176,\n",
              "                      -0.0264,  0.0277, -0.0453,  0.0185,  0.0359,  0.0211, -0.0005,  0.0405,\n",
              "                       0.0330, -0.0325,  0.0063, -0.0498,  0.0096,  0.0081,  0.0067, -0.0347],\n",
              "                     device='cuda:0')),\n",
              "             ('batchnorm2.weight',\n",
              "              tensor([1., 1., 1., 1., 1., 1., 1., 1., 1., 1., 1., 1., 1., 1., 1., 1., 1., 1.,\n",
              "                      1., 1., 1., 1., 1., 1., 1., 1., 1., 1., 1., 1., 1., 1., 1., 1., 1., 1.,\n",
              "                      1., 1., 1., 1., 1., 1., 1., 1., 1., 1., 1., 1., 1., 1., 1., 1., 1., 1.,\n",
              "                      1., 1., 1., 1., 1., 1., 1., 1., 1., 1.], device='cuda:0')),\n",
              "             ('batchnorm2.bias',\n",
              "              tensor([0., 0., 0., 0., 0., 0., 0., 0., 0., 0., 0., 0., 0., 0., 0., 0., 0., 0., 0., 0., 0., 0., 0., 0.,\n",
              "                      0., 0., 0., 0., 0., 0., 0., 0., 0., 0., 0., 0., 0., 0., 0., 0., 0., 0., 0., 0., 0., 0., 0., 0.,\n",
              "                      0., 0., 0., 0., 0., 0., 0., 0., 0., 0., 0., 0., 0., 0., 0., 0.],\n",
              "                     device='cuda:0')),\n",
              "             ('batchnorm2.running_mean',\n",
              "              tensor([0., 0., 0., 0., 0., 0., 0., 0., 0., 0., 0., 0., 0., 0., 0., 0., 0., 0., 0., 0., 0., 0., 0., 0.,\n",
              "                      0., 0., 0., 0., 0., 0., 0., 0., 0., 0., 0., 0., 0., 0., 0., 0., 0., 0., 0., 0., 0., 0., 0., 0.,\n",
              "                      0., 0., 0., 0., 0., 0., 0., 0., 0., 0., 0., 0., 0., 0., 0., 0.],\n",
              "                     device='cuda:0')),\n",
              "             ('batchnorm2.running_var',\n",
              "              tensor([1., 1., 1., 1., 1., 1., 1., 1., 1., 1., 1., 1., 1., 1., 1., 1., 1., 1.,\n",
              "                      1., 1., 1., 1., 1., 1., 1., 1., 1., 1., 1., 1., 1., 1., 1., 1., 1., 1.,\n",
              "                      1., 1., 1., 1., 1., 1., 1., 1., 1., 1., 1., 1., 1., 1., 1., 1., 1., 1.,\n",
              "                      1., 1., 1., 1., 1., 1., 1., 1., 1., 1.], device='cuda:0')),\n",
              "             ('batchnorm2.num_batches_tracked', tensor(0, device='cuda:0')),\n",
              "             ('fc1.weight',\n",
              "              tensor([[-0.0088,  0.0072,  0.0006,  ..., -0.0038,  0.0018, -0.0103],\n",
              "                      [ 0.0006, -0.0089,  0.0019,  ..., -0.0015, -0.0092, -0.0068],\n",
              "                      [ 0.0002, -0.0027,  0.0021,  ...,  0.0011,  0.0071, -0.0091],\n",
              "                      ...,\n",
              "                      [-0.0091,  0.0056,  0.0035,  ..., -0.0040,  0.0035,  0.0025],\n",
              "                      [ 0.0039,  0.0005,  0.0007,  ..., -0.0051, -0.0008, -0.0009],\n",
              "                      [-0.0044,  0.0019,  0.0073,  ..., -0.0084,  0.0081, -0.0003]],\n",
              "                     device='cuda:0')),\n",
              "             ('fc1.bias',\n",
              "              tensor([-0.0089,  0.0033,  0.0023, -0.0072,  0.0034, -0.0060,  0.0032,  0.0017,\n",
              "                       0.0097, -0.0078, -0.0061, -0.0031,  0.0031,  0.0099, -0.0087, -0.0088,\n",
              "                       0.0064,  0.0088,  0.0041, -0.0005, -0.0072,  0.0082, -0.0058,  0.0032,\n",
              "                      -0.0095, -0.0002, -0.0005, -0.0068,  0.0084, -0.0004, -0.0028,  0.0087,\n",
              "                       0.0026, -0.0097, -0.0050, -0.0027,  0.0058, -0.0008,  0.0100,  0.0084,\n",
              "                       0.0090, -0.0059, -0.0067, -0.0082,  0.0093, -0.0084, -0.0056,  0.0027,\n",
              "                      -0.0095, -0.0043,  0.0098,  0.0099, -0.0057, -0.0027,  0.0071, -0.0024,\n",
              "                       0.0079, -0.0012, -0.0073,  0.0019, -0.0044, -0.0010, -0.0055,  0.0017,\n",
              "                       0.0076, -0.0031, -0.0031, -0.0028, -0.0069,  0.0090,  0.0093, -0.0091,\n",
              "                      -0.0064, -0.0057,  0.0077, -0.0024,  0.0020, -0.0039,  0.0071, -0.0020,\n",
              "                      -0.0034,  0.0060,  0.0049,  0.0013, -0.0009, -0.0014, -0.0075,  0.0015,\n",
              "                      -0.0017, -0.0075, -0.0022, -0.0009,  0.0099, -0.0089, -0.0027, -0.0086,\n",
              "                      -0.0035,  0.0036, -0.0035,  0.0025,  0.0028,  0.0060, -0.0037,  0.0093,\n",
              "                       0.0084, -0.0052,  0.0005, -0.0056,  0.0092, -0.0102,  0.0048,  0.0086,\n",
              "                       0.0005,  0.0034,  0.0036,  0.0030,  0.0011, -0.0078, -0.0100, -0.0027,\n",
              "                      -0.0001, -0.0044,  0.0097, -0.0079,  0.0027,  0.0058, -0.0040, -0.0053],\n",
              "                     device='cuda:0')),\n",
              "             ('fc2.weight',\n",
              "              tensor([[-3.4900e-02,  6.1202e-02,  2.3122e-02,  7.6394e-02, -6.7048e-02,\n",
              "                       -8.4288e-03, -6.5265e-02,  4.6810e-02,  7.7683e-02, -6.6818e-02,\n",
              "                       -6.3551e-02, -1.7248e-02, -7.3907e-02, -7.1883e-02,  7.4236e-02,\n",
              "                       -3.2277e-03,  1.7219e-02,  4.5140e-02,  7.4900e-02,  7.3476e-02,\n",
              "                       -6.3602e-02, -6.9915e-02,  6.1014e-02, -1.8005e-02, -7.4547e-02,\n",
              "                       -3.1306e-02, -2.6738e-02, -2.2414e-02, -7.4558e-02,  3.9882e-02,\n",
              "                       -1.1829e-02, -6.9425e-02,  8.5625e-03,  6.5378e-03, -6.1268e-02,\n",
              "                        2.7994e-02, -2.4432e-03,  6.6899e-02, -9.7202e-03, -1.7338e-02,\n",
              "                       -2.9129e-02,  2.2697e-02,  4.1188e-02,  2.1196e-03,  3.4536e-02,\n",
              "                        3.8214e-02,  2.6590e-02, -3.0325e-02,  8.1848e-02, -8.7576e-02,\n",
              "                        2.1774e-02, -8.2236e-02,  1.9961e-03,  3.6616e-02,  3.5752e-02,\n",
              "                        3.8057e-02,  7.0339e-03, -4.1090e-02,  1.0101e-02,  1.5515e-02,\n",
              "                        2.3419e-02, -2.8492e-02, -2.0904e-02, -4.4589e-02,  5.7305e-03,\n",
              "                       -5.4914e-02,  7.5937e-02,  7.6607e-02, -4.8127e-02,  2.3612e-02,\n",
              "                        8.4134e-02, -3.4623e-02,  8.3929e-02, -2.7463e-02, -5.7015e-02,\n",
              "                       -6.5932e-02, -6.9620e-02, -7.6919e-02,  8.0385e-02,  5.5059e-02,\n",
              "                       -6.8150e-02,  5.0142e-03,  5.7345e-03,  8.3146e-02, -4.0844e-02,\n",
              "                       -1.2788e-02,  6.8422e-02, -3.0522e-02,  5.3005e-02, -3.6742e-02,\n",
              "                        7.6318e-02,  1.2140e-02,  6.6794e-02, -5.5482e-02, -5.3208e-02,\n",
              "                        4.1171e-03, -4.0994e-02,  7.3134e-02,  8.3066e-02, -3.3333e-03,\n",
              "                        5.9563e-02,  3.5770e-03, -6.9354e-02,  4.2735e-02,  5.0976e-02,\n",
              "                        7.5839e-02, -8.2585e-02, -7.2923e-02, -6.4116e-02, -5.0350e-02,\n",
              "                        3.7670e-02,  3.5024e-02, -6.4415e-02, -8.5036e-03,  2.5470e-02,\n",
              "                       -6.7477e-02,  4.1490e-02,  2.8329e-02,  8.5800e-02, -7.1428e-03,\n",
              "                        2.1677e-04, -8.4307e-02,  4.6817e-02, -5.7339e-02, -3.0282e-02,\n",
              "                       -5.4689e-02, -3.0689e-02, -2.0099e-02],\n",
              "                      [-8.9437e-03,  4.6648e-02,  7.6848e-02,  5.9029e-03,  5.3801e-02,\n",
              "                       -3.7227e-02,  1.0571e-02, -4.2853e-03, -2.9844e-02, -7.0081e-02,\n",
              "                        7.5135e-02,  6.3844e-02,  4.8774e-02,  6.4312e-02, -8.5235e-02,\n",
              "                       -3.1738e-02,  1.5916e-02, -7.2512e-03, -3.8188e-02,  2.5513e-02,\n",
              "                       -3.0740e-02,  4.1105e-02, -1.4221e-02, -4.9321e-02, -1.4175e-02,\n",
              "                       -1.7838e-02,  8.6583e-02, -5.2728e-02,  8.3292e-02,  8.4342e-02,\n",
              "                       -8.3088e-02,  3.0149e-02, -4.3079e-02, -3.5464e-02,  5.9227e-02,\n",
              "                       -5.3551e-02,  2.6389e-02, -5.5319e-02, -1.6790e-02,  1.4455e-02,\n",
              "                        6.4936e-02,  8.5188e-02,  4.7900e-02, -7.7582e-02,  6.4596e-02,\n",
              "                       -1.8293e-02, -8.7733e-02,  6.3210e-02, -2.9256e-02,  5.7618e-02,\n",
              "                        7.1435e-02,  8.1674e-02,  2.8340e-02,  8.2598e-03,  7.2733e-02,\n",
              "                        7.4961e-02,  8.6138e-02,  6.6878e-02,  6.2139e-02,  6.7682e-02,\n",
              "                        9.3770e-03, -7.8177e-02, -6.8386e-02,  7.4594e-02,  7.6629e-02,\n",
              "                       -8.3936e-02, -1.1707e-02, -6.1819e-02,  7.1604e-02,  2.4327e-02,\n",
              "                       -7.7960e-02, -6.3660e-02,  3.2089e-02,  6.0791e-02,  2.0344e-02,\n",
              "                       -6.2364e-02, -2.6550e-02,  6.6511e-02,  3.4780e-03,  3.9436e-02,\n",
              "                       -7.8581e-02,  5.0839e-02, -8.3571e-02,  3.7463e-02,  4.8909e-02,\n",
              "                        4.0488e-02, -5.3575e-02, -8.3063e-02,  1.7498e-02,  3.0171e-02,\n",
              "                        4.7803e-02, -4.5921e-02,  4.9094e-02, -2.0989e-02,  4.7883e-04,\n",
              "                        8.7446e-02, -3.1549e-02,  3.1831e-02, -3.0821e-02,  5.7725e-02,\n",
              "                       -1.6006e-02,  1.4164e-03,  8.9386e-03, -4.0951e-02, -4.2835e-02,\n",
              "                        4.1176e-03, -2.2017e-02, -7.8871e-02, -2.3084e-02, -3.2089e-02,\n",
              "                        5.2161e-03, -2.1683e-02, -2.9992e-02,  6.8512e-02,  1.9928e-02,\n",
              "                       -3.2796e-02,  6.7718e-02, -3.8166e-02, -6.3780e-02, -4.6338e-02,\n",
              "                       -2.8650e-02,  5.7977e-02, -2.1717e-02, -8.2307e-03, -5.9259e-02,\n",
              "                       -7.9388e-02, -7.2962e-02, -4.5980e-03],\n",
              "                      [-1.2056e-02,  3.3282e-02, -1.3539e-02, -4.7002e-02, -4.4298e-02,\n",
              "                        3.9732e-02, -8.8095e-02,  7.2328e-03,  2.7088e-02, -2.4249e-02,\n",
              "                       -4.6990e-02, -5.3494e-02, -8.8456e-05,  7.5659e-02,  6.7395e-02,\n",
              "                       -6.6824e-02,  7.0400e-02,  2.7310e-02,  8.4546e-02,  3.5943e-04,\n",
              "                       -4.6349e-02,  3.8429e-02,  4.4298e-02,  2.1063e-02, -1.6816e-02,\n",
              "                        5.6172e-02,  7.3837e-02,  7.6314e-02,  7.4063e-02, -4.4851e-02,\n",
              "                       -8.0074e-02, -3.0396e-02, -2.2462e-02, -5.0669e-02,  4.6097e-02,\n",
              "                       -3.8096e-02, -4.7797e-02, -6.0495e-02,  4.5194e-02,  3.4430e-02,\n",
              "                       -1.1799e-02, -9.5528e-03, -4.9219e-02,  4.7003e-02, -3.1219e-02,\n",
              "                       -7.0409e-02,  2.2939e-02,  4.5338e-02,  7.3386e-02, -7.5307e-02,\n",
              "                       -2.0886e-02,  3.6978e-02,  4.0463e-02, -1.5607e-02, -7.0905e-02,\n",
              "                        5.6585e-02,  1.2940e-02, -7.1244e-02, -5.3639e-04,  7.6735e-02,\n",
              "                        1.2955e-03, -3.5659e-03, -6.0872e-02,  5.3107e-02,  8.6004e-02,\n",
              "                        1.7726e-03,  1.7729e-02,  7.6236e-02, -5.3550e-02, -1.0454e-02,\n",
              "                       -5.9537e-02,  3.0020e-02, -6.3615e-02, -5.0473e-02,  6.3385e-02,\n",
              "                       -3.3563e-02,  7.3743e-02, -5.9306e-02,  7.4819e-02,  2.4027e-02,\n",
              "                        6.5028e-02,  8.9134e-03, -2.9747e-02,  1.2716e-02,  1.5281e-02,\n",
              "                        1.8801e-02,  6.1128e-02,  8.5857e-03, -4.6661e-02,  1.1255e-02,\n",
              "                        1.3157e-02, -1.1628e-02, -8.2721e-03, -7.6920e-02,  2.6617e-02,\n",
              "                        2.8279e-02, -8.3898e-04,  4.7239e-02, -8.0294e-03, -6.2260e-02,\n",
              "                       -6.2742e-02,  6.3520e-02,  4.2729e-02, -2.5631e-02,  1.8420e-02,\n",
              "                       -4.4473e-02,  1.2325e-02, -3.4197e-02,  7.5457e-04, -1.4133e-02,\n",
              "                        3.4008e-02, -6.0151e-02,  5.2999e-02, -2.5968e-02, -8.2293e-02,\n",
              "                        3.5501e-02,  7.5817e-03,  7.5605e-02, -3.0093e-02,  1.1511e-02,\n",
              "                        6.5360e-02,  2.3871e-03,  5.2841e-02,  7.5103e-02,  7.9564e-02,\n",
              "                       -7.5625e-02, -2.6898e-02,  1.0954e-02],\n",
              "                      [-4.8158e-02,  1.5290e-02, -1.7476e-02,  4.5297e-02, -5.5141e-02,\n",
              "                       -1.2583e-02, -1.8717e-02, -8.2604e-02, -2.1621e-02,  1.3496e-02,\n",
              "                       -4.5529e-02,  8.5897e-02,  3.0860e-02,  5.7274e-02,  3.8717e-04,\n",
              "                       -3.5844e-02, -3.7686e-02, -5.2657e-02,  7.7289e-02,  2.8188e-02,\n",
              "                        4.9634e-02, -6.3659e-02, -2.2778e-02, -2.1160e-02,  5.7423e-02,\n",
              "                       -2.7963e-02,  1.2543e-02, -9.4076e-03, -7.0671e-04, -6.4838e-02,\n",
              "                       -1.6894e-02,  4.3373e-02,  8.1650e-02, -8.1185e-02,  6.4831e-02,\n",
              "                        1.1246e-02,  6.9093e-02,  1.1296e-02, -4.8948e-02,  2.5031e-02,\n",
              "                        6.2467e-02,  2.4123e-02,  1.4768e-02,  5.1398e-02,  7.6780e-02,\n",
              "                        7.9774e-02, -1.7775e-02,  4.1457e-02,  6.5166e-02,  7.4410e-02,\n",
              "                        6.8405e-02,  2.7487e-02,  7.5122e-02,  5.3389e-02,  6.2906e-02,\n",
              "                        8.7847e-02,  2.2398e-02,  5.7917e-02, -8.1833e-02, -8.1407e-02,\n",
              "                        4.2862e-02, -6.7086e-02,  3.7830e-02,  4.2442e-02, -7.0424e-02,\n",
              "                        7.8624e-02, -3.2759e-02,  5.1742e-02,  6.1568e-02, -1.1419e-02,\n",
              "                        5.4465e-02, -2.5266e-02,  6.8028e-02, -2.2429e-02,  7.9996e-02,\n",
              "                        1.7642e-02, -2.6831e-03,  3.2966e-02, -7.1015e-02, -8.4839e-02,\n",
              "                        1.7127e-02, -2.1744e-02,  5.7304e-02,  3.9959e-02, -3.2126e-02,\n",
              "                       -2.9747e-02, -1.1201e-02, -7.1395e-02,  9.0071e-03,  6.7887e-02,\n",
              "                       -8.7869e-02,  5.3641e-02,  4.6931e-02,  7.0979e-02, -4.1688e-02,\n",
              "                        7.8117e-03, -5.3346e-02, -8.1725e-02, -2.5545e-02,  7.4121e-02,\n",
              "                        6.8357e-02, -7.3319e-03, -1.6868e-02, -6.1091e-02, -2.6017e-03,\n",
              "                       -6.4399e-02, -2.4147e-02,  7.0476e-02,  1.1117e-02,  1.3155e-02,\n",
              "                        8.1726e-02,  6.5296e-02, -2.0135e-02, -5.0629e-02,  3.1380e-02,\n",
              "                        2.9213e-02,  1.3080e-02,  2.9390e-02, -1.3057e-02,  9.8882e-03,\n",
              "                        3.1257e-02,  5.3811e-02,  6.1100e-02, -8.8284e-02,  4.6390e-02,\n",
              "                        5.9280e-02,  7.8458e-02, -1.7909e-02],\n",
              "                      [-5.8239e-02, -2.9756e-03,  9.7248e-03, -1.3128e-02, -1.5210e-02,\n",
              "                        4.7775e-02,  6.2791e-02,  2.0896e-02, -6.8542e-02, -6.2826e-02,\n",
              "                       -5.2749e-02, -6.4724e-02,  2.3042e-02,  7.3153e-02, -7.2904e-03,\n",
              "                       -3.1377e-02,  1.3215e-02, -2.6201e-02,  5.3413e-02,  7.3475e-02,\n",
              "                       -1.0892e-02, -2.2450e-02, -2.8916e-02, -8.1417e-02,  2.5729e-02,\n",
              "                       -5.7958e-02, -8.3090e-03,  4.6815e-02,  5.1965e-02,  6.4978e-03,\n",
              "                        7.1929e-02, -3.4518e-02,  3.2271e-02,  2.5457e-02,  7.8323e-02,\n",
              "                       -4.0841e-02,  7.7871e-02, -4.4739e-02,  7.0455e-02,  6.0772e-02,\n",
              "                       -1.3996e-02,  4.1070e-03, -7.4773e-02, -3.4671e-02,  2.6185e-02,\n",
              "                        7.8604e-02, -2.8529e-03, -3.2068e-02,  6.6546e-02,  6.4305e-02,\n",
              "                        3.5276e-02,  7.6460e-02,  5.0311e-02, -4.3936e-02, -5.0209e-03,\n",
              "                       -4.3982e-02, -7.8641e-02,  3.1897e-03,  7.6314e-02,  8.1033e-02,\n",
              "                        1.8723e-02, -5.7926e-03,  8.3146e-02,  5.4889e-02,  3.1519e-02,\n",
              "                        6.6300e-02, -1.8429e-02,  6.7364e-02,  2.3427e-02,  5.0314e-02,\n",
              "                        8.5429e-02, -1.0156e-02,  4.3797e-02,  6.5229e-02,  7.6698e-02,\n",
              "                        1.3594e-02,  3.2313e-02,  7.9085e-02, -3.6097e-03,  6.9208e-03,\n",
              "                       -3.5062e-03, -4.6578e-02, -1.7822e-02, -3.5755e-02,  1.6001e-03,\n",
              "                        6.6565e-02, -5.0106e-02,  7.2869e-02,  3.1253e-02,  1.0635e-02,\n",
              "                       -5.8991e-02,  7.2074e-02, -7.8406e-02,  2.6715e-02,  3.2392e-03,\n",
              "                        3.1266e-02, -6.9899e-02, -3.3582e-02,  8.1310e-02, -3.4335e-02,\n",
              "                       -4.1895e-02, -8.5445e-02, -4.9034e-02, -4.1756e-02, -2.4397e-02,\n",
              "                       -2.0606e-02, -6.5820e-02,  4.8208e-02,  4.3742e-02, -4.9779e-02,\n",
              "                       -8.6321e-02, -7.1642e-02, -4.4829e-02,  3.8148e-02, -2.7961e-02,\n",
              "                        3.9862e-02, -3.5522e-02,  7.5709e-02, -6.3457e-02, -2.6082e-03,\n",
              "                        2.2225e-02, -3.6440e-02,  6.4695e-02,  6.5522e-03, -5.1080e-02,\n",
              "                       -1.5017e-02,  1.7233e-02,  7.1541e-02]], device='cuda:0')),\n",
              "             ('fc2.bias',\n",
              "              tensor([ 0.0123,  0.0666, -0.0475,  0.0265, -0.0447], device='cuda:0'))])"
            ]
          },
          "metadata": {},
          "execution_count": 22
        }
      ],
      "source": [
        "# for reproducibility of the results\n",
        "torch.manual_seed(32)\n",
        "# creating an instance of the model\n",
        "# loading model into gpu\n",
        "model = EthnicityCNN().to(device)\n",
        "model.state_dict()"
      ]
    },
    {
      "cell_type": "markdown",
      "metadata": {
        "id": "ix1rj795VdSh"
      },
      "source": [
        "### (ii): Model Training (20 Points)\n",
        "### (iii): Performance Monitoring (10 Points"
      ]
    },
    {
      "cell_type": "code",
      "source": [
        "import torch.optim as optim"
      ],
      "metadata": {
        "id": "vOUueSA6dXxO"
      },
      "execution_count": 23,
      "outputs": []
    },
    {
      "cell_type": "code",
      "source": [
        "# Define your loss function\n",
        "criterion = nn.CrossEntropyLoss()\n",
        "\n",
        "# Define your optimizer\n",
        "optimizer = optim.Adam(model.parameters(), lr=0.001)"
      ],
      "metadata": {
        "id": "3MbaFchrdSpE"
      },
      "execution_count": 24,
      "outputs": []
    },
    {
      "cell_type": "code",
      "execution_count": 25,
      "metadata": {
        "id": "EHTlRQEgVHO4"
      },
      "outputs": [],
      "source": [
        "def train_model(model, train_loader, criterion, optimizer):\n",
        "    model.train()  # Set the model to training mode\n",
        "    running_loss = 0.0\n",
        "    correct_train = 0\n",
        "    total_train = 0\n",
        "\n",
        "    for inputs, labels in train_loader:\n",
        "        outputs = model(inputs)\n",
        "        optimizer.zero_grad()\n",
        "        loss = criterion(outputs, labels.squeeze(1))\n",
        "        loss.backward()\n",
        "        optimizer.step()\n",
        "\n",
        "        running_loss += loss.item()\n",
        "        _, predicted = torch.max(outputs.data, 1)\n",
        "        total_train += labels.size(0)\n",
        "        correct_train += (predicted == labels.squeeze(1)).sum().item()\n",
        "\n",
        "    train_loss = running_loss / len(train_loader)\n",
        "    train_accuracy = 100 * correct_train / total_train\n",
        "\n",
        "    return train_loss, train_accuracy"
      ]
    },
    {
      "cell_type": "code",
      "source": [
        "def validate_model(model, val_loader, criterion):\n",
        "    model.eval()  # Set the model to evaluation mode\n",
        "    running_loss = 0.0\n",
        "    correct_val = 0\n",
        "    total_val = 0\n",
        "\n",
        "    with torch.no_grad():\n",
        "        for inputs, labels in val_loader:\n",
        "            outputs = model(inputs)\n",
        "            loss = criterion(outputs, labels.squeeze(1))\n",
        "            running_loss += loss.item()\n",
        "            _, predicted = torch.max(outputs.data, 1)\n",
        "            total_val += labels.size(0)\n",
        "            correct_val += (predicted == labels.squeeze(1)).sum().item()\n",
        "\n",
        "    val_loss = running_loss / len(val_loader)\n",
        "    val_accuracy = 100 * correct_val / total_val\n",
        "\n",
        "    return val_loss, val_accuracy"
      ],
      "metadata": {
        "id": "nG8fhr3lb7bJ"
      },
      "execution_count": 26,
      "outputs": []
    },
    {
      "cell_type": "code",
      "source": [
        "# Training loop\n",
        "num_epochs = 50\n",
        "train_losses = []\n",
        "val_losses = []\n",
        "train_accs = []\n",
        "val_accs = []\n",
        "\n",
        "for epoch in range(num_epochs):\n",
        "    train_loss, train_accuracy = train_model(model, train_loader, criterion, optimizer)\n",
        "    val_loss, val_accuracy = validate_model(model, val_loader, criterion)\n",
        "\n",
        "    train_losses.append(train_loss)\n",
        "    train_accs.append(train_accuracy)\n",
        "    val_losses.append(val_loss)\n",
        "    val_accs.append(val_accuracy)\n",
        "\n",
        "    print(f\"Epoch {epoch + 1}/{num_epochs} - \"\n",
        "          f\"Train Loss: {train_loss:.4f}, Train Accuracy: {train_accuracy:.2f}% - \"\n",
        "          f\"Validation Loss: {val_loss:.4f}, Validation Accuracy: {val_accuracy:.2f}%\")"
      ],
      "metadata": {
        "colab": {
          "base_uri": "https://localhost:8080/"
        },
        "id": "54YdL_23cAL0",
        "outputId": "ab1fc65b-4a8c-44ca-ab0b-fa3c700bef08"
      },
      "execution_count": 27,
      "outputs": [
        {
          "output_type": "stream",
          "name": "stdout",
          "text": [
            "Epoch 1/50 - Train Loss: 1.4059, Train Accuracy: 60.59% - Validation Loss: 0.7610, Validation Accuracy: 73.41%\n",
            "Epoch 2/50 - Train Loss: 0.7908, Train Accuracy: 72.49% - Validation Loss: 0.6300, Validation Accuracy: 79.02%\n",
            "Epoch 3/50 - Train Loss: 0.7227, Train Accuracy: 74.74% - Validation Loss: 0.5731, Validation Accuracy: 79.96%\n",
            "Epoch 4/50 - Train Loss: 0.6603, Train Accuracy: 77.13% - Validation Loss: 0.5396, Validation Accuracy: 81.39%\n",
            "Epoch 5/50 - Train Loss: 0.6077, Train Accuracy: 79.00% - Validation Loss: 0.4772, Validation Accuracy: 83.58%\n",
            "Epoch 6/50 - Train Loss: 0.5567, Train Accuracy: 80.77% - Validation Loss: 0.4382, Validation Accuracy: 84.88%\n",
            "Epoch 7/50 - Train Loss: 0.5191, Train Accuracy: 82.32% - Validation Loss: 0.4120, Validation Accuracy: 86.68%\n",
            "Epoch 8/50 - Train Loss: 0.4723, Train Accuracy: 83.90% - Validation Loss: 0.4449, Validation Accuracy: 85.72%\n",
            "Epoch 9/50 - Train Loss: 0.4301, Train Accuracy: 85.13% - Validation Loss: 0.2952, Validation Accuracy: 90.62%\n",
            "Epoch 10/50 - Train Loss: 0.3861, Train Accuracy: 86.72% - Validation Loss: 0.3524, Validation Accuracy: 87.14%\n",
            "Epoch 11/50 - Train Loss: 0.3481, Train Accuracy: 88.06% - Validation Loss: 0.2247, Validation Accuracy: 92.31%\n",
            "Epoch 12/50 - Train Loss: 0.3096, Train Accuracy: 89.16% - Validation Loss: 0.2220, Validation Accuracy: 92.97%\n",
            "Epoch 13/50 - Train Loss: 0.2873, Train Accuracy: 89.93% - Validation Loss: 0.1943, Validation Accuracy: 93.03%\n",
            "Epoch 14/50 - Train Loss: 0.2421, Train Accuracy: 91.36% - Validation Loss: 0.1447, Validation Accuracy: 94.97%\n",
            "Epoch 15/50 - Train Loss: 0.2194, Train Accuracy: 92.22% - Validation Loss: 0.1452, Validation Accuracy: 94.97%\n",
            "Epoch 16/50 - Train Loss: 0.2021, Train Accuracy: 93.02% - Validation Loss: 0.1121, Validation Accuracy: 96.82%\n",
            "Epoch 17/50 - Train Loss: 0.1825, Train Accuracy: 93.80% - Validation Loss: 0.2041, Validation Accuracy: 91.98%\n",
            "Epoch 18/50 - Train Loss: 0.1637, Train Accuracy: 94.56% - Validation Loss: 0.1581, Validation Accuracy: 94.57%\n",
            "Epoch 19/50 - Train Loss: 0.1524, Train Accuracy: 95.04% - Validation Loss: 0.1102, Validation Accuracy: 96.13%\n",
            "Epoch 20/50 - Train Loss: 0.1376, Train Accuracy: 95.27% - Validation Loss: 0.1347, Validation Accuracy: 95.22%\n",
            "Epoch 21/50 - Train Loss: 0.1457, Train Accuracy: 95.11% - Validation Loss: 0.1259, Validation Accuracy: 95.36%\n",
            "Epoch 22/50 - Train Loss: 0.1198, Train Accuracy: 96.02% - Validation Loss: 0.0579, Validation Accuracy: 98.36%\n",
            "Epoch 23/50 - Train Loss: 0.1213, Train Accuracy: 95.99% - Validation Loss: 0.0591, Validation Accuracy: 98.10%\n",
            "Epoch 24/50 - Train Loss: 0.1116, Train Accuracy: 96.28% - Validation Loss: 0.0505, Validation Accuracy: 98.40%\n",
            "Epoch 25/50 - Train Loss: 0.1094, Train Accuracy: 96.37% - Validation Loss: 0.0618, Validation Accuracy: 98.22%\n",
            "Epoch 26/50 - Train Loss: 0.1076, Train Accuracy: 96.54% - Validation Loss: 0.0859, Validation Accuracy: 97.13%\n",
            "Epoch 27/50 - Train Loss: 0.0916, Train Accuracy: 97.05% - Validation Loss: 0.0526, Validation Accuracy: 98.52%\n",
            "Epoch 28/50 - Train Loss: 0.1036, Train Accuracy: 96.78% - Validation Loss: 0.0542, Validation Accuracy: 98.46%\n",
            "Epoch 29/50 - Train Loss: 0.0949, Train Accuracy: 97.02% - Validation Loss: 0.0530, Validation Accuracy: 98.47%\n",
            "Epoch 30/50 - Train Loss: 0.0906, Train Accuracy: 97.16% - Validation Loss: 0.0418, Validation Accuracy: 98.84%\n",
            "Epoch 31/50 - Train Loss: 0.0996, Train Accuracy: 96.97% - Validation Loss: 0.0464, Validation Accuracy: 98.79%\n",
            "Epoch 32/50 - Train Loss: 0.0825, Train Accuracy: 97.46% - Validation Loss: 0.0458, Validation Accuracy: 98.78%\n",
            "Epoch 33/50 - Train Loss: 0.0830, Train Accuracy: 97.66% - Validation Loss: 0.0514, Validation Accuracy: 98.64%\n",
            "Epoch 34/50 - Train Loss: 0.0854, Train Accuracy: 97.66% - Validation Loss: 0.0698, Validation Accuracy: 97.64%\n",
            "Epoch 35/50 - Train Loss: 0.0808, Train Accuracy: 97.60% - Validation Loss: 0.0616, Validation Accuracy: 98.09%\n",
            "Epoch 36/50 - Train Loss: 0.0799, Train Accuracy: 97.61% - Validation Loss: 0.0387, Validation Accuracy: 98.95%\n",
            "Epoch 37/50 - Train Loss: 0.0742, Train Accuracy: 97.81% - Validation Loss: 0.0330, Validation Accuracy: 99.16%\n",
            "Epoch 38/50 - Train Loss: 0.0795, Train Accuracy: 97.66% - Validation Loss: 0.0554, Validation Accuracy: 98.38%\n",
            "Epoch 39/50 - Train Loss: 0.0667, Train Accuracy: 97.95% - Validation Loss: 0.0420, Validation Accuracy: 98.76%\n",
            "Epoch 40/50 - Train Loss: 0.0725, Train Accuracy: 97.96% - Validation Loss: 0.0333, Validation Accuracy: 99.11%\n",
            "Epoch 41/50 - Train Loss: 0.0650, Train Accuracy: 98.14% - Validation Loss: 0.0375, Validation Accuracy: 99.13%\n",
            "Epoch 42/50 - Train Loss: 0.0709, Train Accuracy: 97.85% - Validation Loss: 0.0434, Validation Accuracy: 98.79%\n",
            "Epoch 43/50 - Train Loss: 0.0691, Train Accuracy: 98.10% - Validation Loss: 0.0393, Validation Accuracy: 98.97%\n",
            "Epoch 44/50 - Train Loss: 0.0790, Train Accuracy: 97.75% - Validation Loss: 0.0525, Validation Accuracy: 98.33%\n",
            "Epoch 45/50 - Train Loss: 0.0729, Train Accuracy: 98.13% - Validation Loss: 0.0296, Validation Accuracy: 99.38%\n",
            "Epoch 46/50 - Train Loss: 0.0668, Train Accuracy: 98.30% - Validation Loss: 0.0709, Validation Accuracy: 97.61%\n",
            "Epoch 47/50 - Train Loss: 0.0606, Train Accuracy: 98.38% - Validation Loss: 0.0342, Validation Accuracy: 99.15%\n",
            "Epoch 48/50 - Train Loss: 0.0643, Train Accuracy: 98.23% - Validation Loss: 0.0338, Validation Accuracy: 99.25%\n",
            "Epoch 49/50 - Train Loss: 0.0617, Train Accuracy: 98.29% - Validation Loss: 0.0378, Validation Accuracy: 99.01%\n",
            "Epoch 50/50 - Train Loss: 0.0726, Train Accuracy: 98.07% - Validation Loss: 0.0318, Validation Accuracy: 99.15%\n"
          ]
        }
      ]
    },
    {
      "cell_type": "code",
      "execution_count": 28,
      "metadata": {
        "colab": {
          "base_uri": "https://localhost:8080/",
          "height": 388
        },
        "id": "vFtnCWI3Wc3y",
        "outputId": "d007e455-22ee-44b2-c87a-0812407bf818"
      },
      "outputs": [
        {
          "output_type": "display_data",
          "data": {
            "text/plain": [
              "<Figure size 1200x400 with 2 Axes>"
            ],
            "image/png": "[encoded data removed]"
          },
          "metadata": {}
        }
      ],
      "source": [
        "# Plot the training and validation curves (loss vs. epochs, accuracy vs. epochs)\n",
        "plt.figure(figsize=(12, 4))\n",
        "plt.subplot(1, 2, 1)\n",
        "plt.plot(train_losses, label=\"Train\")\n",
        "plt.plot(val_losses, label=\"Validation\")\n",
        "plt.xlabel(\"Epochs\")\n",
        "plt.ylabel(\"Loss\")\n",
        "plt.legend()\n",
        "\n",
        "plt.subplot(1, 2, 2)\n",
        "plt.plot(train_accs, label=\"Train\")\n",
        "plt.plot(val_accs, label=\"Validation\")\n",
        "plt.xlabel(\"Epochs\")\n",
        "plt.ylabel(\"Accuracy\")\n",
        "plt.legend()\n",
        "plt.show()"
      ]
    },
    {
      "cell_type": "markdown",
      "source": [
        "# Part 3: Evaluation (10 points)\n",
        "### (i) Classification Evaluation"
      ],
      "metadata": {
        "id": "uW260VSedbi7"
      }
    },
    {
      "cell_type": "code",
      "source": [
        "from sklearn.metrics import accuracy_score, confusion_matrix\n",
        "import seaborn as sns"
      ],
      "metadata": {
        "id": "DUlEUI6EdlBw"
      },
      "execution_count": 29,
      "outputs": []
    },
    {
      "cell_type": "code",
      "source": [
        "# set model to evaluation mode\n",
        "# turns off the gradient tracking\n",
        "model.eval()\n",
        "test_loss = 0.0\n",
        "correct = 0\n",
        "total = 0\n",
        "y_true = []\n",
        "y_pred = []\n",
        "\n",
        "with torch.no_grad():\n",
        "    for inputs, labels in test_loader:\n",
        "        outputs = model(inputs)\n",
        "        loss = criterion(outputs, labels.squeeze(1))\n",
        "        test_loss += loss.item()\n",
        "        _, predicted = torch.max(outputs.data, 1)\n",
        "        total += labels.size(0)\n",
        "        correct += (predicted == labels.squeeze(1)).sum().item()\n",
        "        y_true += labels.tolist()\n",
        "        y_pred += predicted.tolist()\n",
        "\n",
        "test_loss /= len(test_loader)\n",
        "test_accuracy = 100 * correct / total\n",
        "\n",
        "print(f\"Test Loss: {test_loss:.4f}\")\n",
        "print(f\"Test Accuracy: {test_accuracy:.2f}%\")\n"
      ],
      "metadata": {
        "colab": {
          "base_uri": "https://localhost:8080/"
        },
        "id": "p4wbJfgxdg-8",
        "outputId": "898a9c11-3991-494c-f72c-52d17fa559c0"
      },
      "execution_count": 30,
      "outputs": [
        {
          "output_type": "stream",
          "name": "stdout",
          "text": [
            "Test Loss: 1.0024\n",
            "Test Accuracy: 85.37%\n"
          ]
        }
      ]
    },
    {
      "cell_type": "code",
      "source": [
        "# Visualize the confusion matrix\n",
        "cm = confusion_matrix(y_true, y_pred)\n",
        "plt.figure(figsize=(8, 6))\n",
        "sns.heatmap(cm, annot=True, fmt=\"d\", cmap=\"Blues\")\n",
        "plt.xlabel(\"Predicted\")\n",
        "plt.ylabel(\"True\")\n",
        "plt.show()"
      ],
      "metadata": {
        "colab": {
          "base_uri": "https://localhost:8080/",
          "height": 542
        },
        "id": "xWj4qCfVdrd8",
        "outputId": "225df951-7a34-4eaf-82ee-7b69cf610b5f"
      },
      "execution_count": 31,
      "outputs": [
        {
          "output_type": "display_data",
          "data": {
            "text/plain": [
              "<Figure size 800x600 with 2 Axes>"
            ],
            "image/png": "[encoded data removed]"
          },
          "metadata": {}
        }
      ]
    }
  ],
  "metadata": {
    "colab": {
      "provenance": [],
      "gpuType": "T4"
    },
    "kernelspec": {
      "display_name": "Python 3",
      "name": "python3"
    },
    "language_info": {
      "name": "python"
    },
    "accelerator": "GPU"
  },
  "nbformat": 4,
  "nbformat_minor": 0
}